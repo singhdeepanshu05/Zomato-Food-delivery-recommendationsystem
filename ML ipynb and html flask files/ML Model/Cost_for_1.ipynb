{
 "cells": [
  {
   "cell_type": "code",
   "execution_count": 1,
   "id": "cb018506",
   "metadata": {},
   "outputs": [],
   "source": [
    "#importing initial libraries\n",
    "\n",
    "import pandas as pd\n",
    "import numpy as np\n",
    "\n",
    "import matplotlib.pyplot as plt\n",
    "import seaborn as sns"
   ]
  },
  {
   "cell_type": "code",
   "execution_count": null,
   "id": "d1d191c7",
   "metadata": {},
   "outputs": [],
   "source": []
  },
  {
   "cell_type": "code",
   "execution_count": null,
   "id": "3fb2302d",
   "metadata": {},
   "outputs": [],
   "source": []
  },
  {
   "cell_type": "code",
   "execution_count": 2,
   "id": "3fb1227a",
   "metadata": {
    "scrolled": true
   },
   "outputs": [
    {
     "data": {
      "text/html": [
       "<div>\n",
       "<style scoped>\n",
       "    .dataframe tbody tr th:only-of-type {\n",
       "        vertical-align: middle;\n",
       "    }\n",
       "\n",
       "    .dataframe tbody tr th {\n",
       "        vertical-align: top;\n",
       "    }\n",
       "\n",
       "    .dataframe thead th {\n",
       "        text-align: right;\n",
       "    }\n",
       "</style>\n",
       "<table border=\"1\" class=\"dataframe\">\n",
       "  <thead>\n",
       "    <tr style=\"text-align: right;\">\n",
       "      <th></th>\n",
       "      <th>ID</th>\n",
       "      <th>Name</th>\n",
       "      <th>location</th>\n",
       "      <th>Cuisines</th>\n",
       "      <th>rating</th>\n",
       "      <th>Dining_review</th>\n",
       "      <th>Delivery_Reviews</th>\n",
       "      <th>cost_for_one</th>\n",
       "    </tr>\n",
       "  </thead>\n",
       "  <tbody>\n",
       "    <tr>\n",
       "      <th>0</th>\n",
       "      <td>0</td>\n",
       "      <td>Kannur Food Point</td>\n",
       "      <td>BTM</td>\n",
       "      <td>Kerala</td>\n",
       "      <td>3.8</td>\n",
       "      <td>557</td>\n",
       "      <td>48300</td>\n",
       "      <td>200</td>\n",
       "    </tr>\n",
       "    <tr>\n",
       "      <th>1</th>\n",
       "      <td>0</td>\n",
       "      <td>Kannur Food Point</td>\n",
       "      <td>BTM</td>\n",
       "      <td>Chinese</td>\n",
       "      <td>3.8</td>\n",
       "      <td>557</td>\n",
       "      <td>48300</td>\n",
       "      <td>200</td>\n",
       "    </tr>\n",
       "    <tr>\n",
       "      <th>2</th>\n",
       "      <td>0</td>\n",
       "      <td>Kannur Food Point</td>\n",
       "      <td>BTM</td>\n",
       "      <td>South Indian</td>\n",
       "      <td>3.8</td>\n",
       "      <td>557</td>\n",
       "      <td>48300</td>\n",
       "      <td>200</td>\n",
       "    </tr>\n",
       "    <tr>\n",
       "      <th>3</th>\n",
       "      <td>0</td>\n",
       "      <td>Kannur Food Point</td>\n",
       "      <td>BTM</td>\n",
       "      <td>Arabian</td>\n",
       "      <td>3.8</td>\n",
       "      <td>557</td>\n",
       "      <td>48300</td>\n",
       "      <td>200</td>\n",
       "    </tr>\n",
       "    <tr>\n",
       "      <th>4</th>\n",
       "      <td>0</td>\n",
       "      <td>Kannur Food Point</td>\n",
       "      <td>BTM</td>\n",
       "      <td>Juices</td>\n",
       "      <td>3.8</td>\n",
       "      <td>557</td>\n",
       "      <td>48300</td>\n",
       "      <td>200</td>\n",
       "    </tr>\n",
       "    <tr>\n",
       "      <th>...</th>\n",
       "      <td>...</td>\n",
       "      <td>...</td>\n",
       "      <td>...</td>\n",
       "      <td>...</td>\n",
       "      <td>...</td>\n",
       "      <td>...</td>\n",
       "      <td>...</td>\n",
       "      <td>...</td>\n",
       "    </tr>\n",
       "    <tr>\n",
       "      <th>2881</th>\n",
       "      <td>645</td>\n",
       "      <td>Randhan - A - Bandhan</td>\n",
       "      <td>Wilson Garden</td>\n",
       "      <td>Desserts</td>\n",
       "      <td>3.3</td>\n",
       "      <td>0</td>\n",
       "      <td>366</td>\n",
       "      <td>200</td>\n",
       "    </tr>\n",
       "    <tr>\n",
       "      <th>2882</th>\n",
       "      <td>646</td>\n",
       "      <td>Amudham Biryani</td>\n",
       "      <td>Wilson Garden</td>\n",
       "      <td>Biryani</td>\n",
       "      <td>NaN</td>\n",
       "      <td>0</td>\n",
       "      <td>0</td>\n",
       "      <td>200</td>\n",
       "    </tr>\n",
       "    <tr>\n",
       "      <th>2883</th>\n",
       "      <td>646</td>\n",
       "      <td>Amudham Biryani</td>\n",
       "      <td>Wilson Garden</td>\n",
       "      <td>South Indian</td>\n",
       "      <td>NaN</td>\n",
       "      <td>0</td>\n",
       "      <td>0</td>\n",
       "      <td>200</td>\n",
       "    </tr>\n",
       "    <tr>\n",
       "      <th>2884</th>\n",
       "      <td>647</td>\n",
       "      <td>Green Kitchen Palace</td>\n",
       "      <td>City Market</td>\n",
       "      <td>Biryani</td>\n",
       "      <td>NaN</td>\n",
       "      <td>0</td>\n",
       "      <td>4</td>\n",
       "      <td>200</td>\n",
       "    </tr>\n",
       "    <tr>\n",
       "      <th>2885</th>\n",
       "      <td>647</td>\n",
       "      <td>Green Kitchen Palace</td>\n",
       "      <td>City Market</td>\n",
       "      <td>Street Food</td>\n",
       "      <td>NaN</td>\n",
       "      <td>0</td>\n",
       "      <td>4</td>\n",
       "      <td>200</td>\n",
       "    </tr>\n",
       "  </tbody>\n",
       "</table>\n",
       "<p>2886 rows × 8 columns</p>\n",
       "</div>"
      ],
      "text/plain": [
       "       ID                   Name       location      Cuisines  rating  \\\n",
       "0       0      Kannur Food Point            BTM        Kerala     3.8   \n",
       "1       0      Kannur Food Point            BTM       Chinese     3.8   \n",
       "2       0      Kannur Food Point            BTM  South Indian     3.8   \n",
       "3       0      Kannur Food Point            BTM       Arabian     3.8   \n",
       "4       0      Kannur Food Point            BTM        Juices     3.8   \n",
       "...   ...                    ...            ...           ...     ...   \n",
       "2881  645  Randhan - A - Bandhan  Wilson Garden      Desserts     3.3   \n",
       "2882  646        Amudham Biryani  Wilson Garden       Biryani     NaN   \n",
       "2883  646        Amudham Biryani  Wilson Garden  South Indian     NaN   \n",
       "2884  647   Green Kitchen Palace    City Market       Biryani     NaN   \n",
       "2885  647   Green Kitchen Palace    City Market   Street Food     NaN   \n",
       "\n",
       "      Dining_review  Delivery_Reviews  cost_for_one  \n",
       "0               557             48300           200  \n",
       "1               557             48300           200  \n",
       "2               557             48300           200  \n",
       "3               557             48300           200  \n",
       "4               557             48300           200  \n",
       "...             ...               ...           ...  \n",
       "2881              0               366           200  \n",
       "2882              0                 0           200  \n",
       "2883              0                 0           200  \n",
       "2884              0                 4           200  \n",
       "2885              0                 4           200  \n",
       "\n",
       "[2886 rows x 8 columns]"
      ]
     },
     "execution_count": 2,
     "metadata": {},
     "output_type": "execute_result"
    }
   ],
   "source": [
    "df2=pd.read_excel(\"FINALTABLE.xlsx\")\n",
    "df2"
   ]
  },
  {
   "cell_type": "code",
   "execution_count": 3,
   "id": "0416ce58",
   "metadata": {},
   "outputs": [
    {
     "data": {
      "text/plain": [
       "ID                    0\n",
       "Name                  0\n",
       "location              0\n",
       "Cuisines              1\n",
       "rating              106\n",
       "Dining_review         0\n",
       "Delivery_Reviews      0\n",
       "cost_for_one          0\n",
       "dtype: int64"
      ]
     },
     "execution_count": 3,
     "metadata": {},
     "output_type": "execute_result"
    }
   ],
   "source": [
    "df2.isnull().sum()"
   ]
  },
  {
   "cell_type": "code",
   "execution_count": 4,
   "id": "18999377",
   "metadata": {},
   "outputs": [],
   "source": [
    "df2['rating'].fillna(df2['rating'].mean(),inplace=True)\n",
    "df2.dropna(inplace=True)"
   ]
  },
  {
   "cell_type": "code",
   "execution_count": 5,
   "id": "da297024",
   "metadata": {
    "scrolled": true
   },
   "outputs": [
    {
     "data": {
      "text/plain": [
       "ID                  0\n",
       "Name                0\n",
       "location            0\n",
       "Cuisines            0\n",
       "rating              0\n",
       "Dining_review       0\n",
       "Delivery_Reviews    0\n",
       "cost_for_one        0\n",
       "dtype: int64"
      ]
     },
     "execution_count": 5,
     "metadata": {},
     "output_type": "execute_result"
    }
   ],
   "source": [
    "df2.isnull().sum()"
   ]
  },
  {
   "cell_type": "code",
   "execution_count": 6,
   "id": "668ea617",
   "metadata": {},
   "outputs": [],
   "source": [
    "#df2.to_csv(\"NEW_FINAL.csv\")"
   ]
  },
  {
   "cell_type": "code",
   "execution_count": 7,
   "id": "c15c81e6",
   "metadata": {},
   "outputs": [
    {
     "data": {
      "text/plain": [
       "ID                    int64\n",
       "Name                 object\n",
       "location             object\n",
       "Cuisines             object\n",
       "rating              float64\n",
       "Dining_review         int64\n",
       "Delivery_Reviews      int64\n",
       "cost_for_one          int64\n",
       "dtype: object"
      ]
     },
     "execution_count": 7,
     "metadata": {},
     "output_type": "execute_result"
    }
   ],
   "source": [
    "df2.dtypes"
   ]
  },
  {
   "cell_type": "code",
   "execution_count": 69,
   "id": "7bd6c08f",
   "metadata": {},
   "outputs": [
    {
     "data": {
      "text/plain": [
       "Index(['ID', 'Name', 'location', 'Cuisines', 'rating', 'Dining_review',\n",
       "       'Delivery_Reviews', 'cost_for_one'],\n",
       "      dtype='object')"
      ]
     },
     "execution_count": 69,
     "metadata": {},
     "output_type": "execute_result"
    }
   ],
   "source": [
    "df2.columns"
   ]
  },
  {
   "cell_type": "code",
   "execution_count": 41,
   "id": "9839d4f7",
   "metadata": {},
   "outputs": [],
   "source": [
    "\n",
    "from sklearn.preprocessing import LabelEncoder\n",
    "le=LabelEncoder()\n",
    "df2[\"Cuisines\"]=le.fit_transform(df2[\"Cuisines\"])"
   ]
  },
  {
   "cell_type": "code",
   "execution_count": 43,
   "id": "37c48a78",
   "metadata": {},
   "outputs": [],
   "source": [
    "\n",
    "from sklearn.preprocessing import LabelEncoder\n",
    "le2=LabelEncoder()\n",
    "df2[\"location\"]=le2.fit_transform(df2[\"location\"])"
   ]
  },
  {
   "cell_type": "code",
   "execution_count": 44,
   "id": "f32495e8",
   "metadata": {},
   "outputs": [
    {
     "data": {
      "text/html": [
       "<div>\n",
       "<style scoped>\n",
       "    .dataframe tbody tr th:only-of-type {\n",
       "        vertical-align: middle;\n",
       "    }\n",
       "\n",
       "    .dataframe tbody tr th {\n",
       "        vertical-align: top;\n",
       "    }\n",
       "\n",
       "    .dataframe thead th {\n",
       "        text-align: right;\n",
       "    }\n",
       "</style>\n",
       "<table border=\"1\" class=\"dataframe\">\n",
       "  <thead>\n",
       "    <tr style=\"text-align: right;\">\n",
       "      <th></th>\n",
       "      <th>ID</th>\n",
       "      <th>Name</th>\n",
       "      <th>location</th>\n",
       "      <th>Cuisines</th>\n",
       "      <th>rating</th>\n",
       "      <th>Dining_review</th>\n",
       "      <th>Delivery_Reviews</th>\n",
       "      <th>cost_for_one</th>\n",
       "    </tr>\n",
       "  </thead>\n",
       "  <tbody>\n",
       "    <tr>\n",
       "      <th>0</th>\n",
       "      <td>0</td>\n",
       "      <td>Kannur Food Point</td>\n",
       "      <td>1</td>\n",
       "      <td>35</td>\n",
       "      <td>3.80000</td>\n",
       "      <td>557</td>\n",
       "      <td>48300</td>\n",
       "      <td>200</td>\n",
       "    </tr>\n",
       "    <tr>\n",
       "      <th>1</th>\n",
       "      <td>0</td>\n",
       "      <td>Kannur Food Point</td>\n",
       "      <td>1</td>\n",
       "      <td>17</td>\n",
       "      <td>3.80000</td>\n",
       "      <td>557</td>\n",
       "      <td>48300</td>\n",
       "      <td>200</td>\n",
       "    </tr>\n",
       "    <tr>\n",
       "      <th>2</th>\n",
       "      <td>0</td>\n",
       "      <td>Kannur Food Point</td>\n",
       "      <td>1</td>\n",
       "      <td>71</td>\n",
       "      <td>3.80000</td>\n",
       "      <td>557</td>\n",
       "      <td>48300</td>\n",
       "      <td>200</td>\n",
       "    </tr>\n",
       "    <tr>\n",
       "      <th>3</th>\n",
       "      <td>0</td>\n",
       "      <td>Kannur Food Point</td>\n",
       "      <td>1</td>\n",
       "      <td>3</td>\n",
       "      <td>3.80000</td>\n",
       "      <td>557</td>\n",
       "      <td>48300</td>\n",
       "      <td>200</td>\n",
       "    </tr>\n",
       "    <tr>\n",
       "      <th>4</th>\n",
       "      <td>0</td>\n",
       "      <td>Kannur Food Point</td>\n",
       "      <td>1</td>\n",
       "      <td>32</td>\n",
       "      <td>3.80000</td>\n",
       "      <td>557</td>\n",
       "      <td>48300</td>\n",
       "      <td>200</td>\n",
       "    </tr>\n",
       "    <tr>\n",
       "      <th>...</th>\n",
       "      <td>...</td>\n",
       "      <td>...</td>\n",
       "      <td>...</td>\n",
       "      <td>...</td>\n",
       "      <td>...</td>\n",
       "      <td>...</td>\n",
       "      <td>...</td>\n",
       "      <td>...</td>\n",
       "    </tr>\n",
       "    <tr>\n",
       "      <th>2881</th>\n",
       "      <td>645</td>\n",
       "      <td>Randhan - A - Bandhan</td>\n",
       "      <td>63</td>\n",
       "      <td>20</td>\n",
       "      <td>3.30000</td>\n",
       "      <td>0</td>\n",
       "      <td>366</td>\n",
       "      <td>200</td>\n",
       "    </tr>\n",
       "    <tr>\n",
       "      <th>2882</th>\n",
       "      <td>646</td>\n",
       "      <td>Amudham Biryani</td>\n",
       "      <td>63</td>\n",
       "      <td>11</td>\n",
       "      <td>3.97295</td>\n",
       "      <td>0</td>\n",
       "      <td>0</td>\n",
       "      <td>200</td>\n",
       "    </tr>\n",
       "    <tr>\n",
       "      <th>2883</th>\n",
       "      <td>646</td>\n",
       "      <td>Amudham Biryani</td>\n",
       "      <td>63</td>\n",
       "      <td>71</td>\n",
       "      <td>3.97295</td>\n",
       "      <td>0</td>\n",
       "      <td>0</td>\n",
       "      <td>200</td>\n",
       "    </tr>\n",
       "    <tr>\n",
       "      <th>2884</th>\n",
       "      <td>647</td>\n",
       "      <td>Green Kitchen Palace</td>\n",
       "      <td>11</td>\n",
       "      <td>11</td>\n",
       "      <td>3.97295</td>\n",
       "      <td>0</td>\n",
       "      <td>4</td>\n",
       "      <td>200</td>\n",
       "    </tr>\n",
       "    <tr>\n",
       "      <th>2885</th>\n",
       "      <td>647</td>\n",
       "      <td>Green Kitchen Palace</td>\n",
       "      <td>11</td>\n",
       "      <td>72</td>\n",
       "      <td>3.97295</td>\n",
       "      <td>0</td>\n",
       "      <td>4</td>\n",
       "      <td>200</td>\n",
       "    </tr>\n",
       "  </tbody>\n",
       "</table>\n",
       "<p>2885 rows × 8 columns</p>\n",
       "</div>"
      ],
      "text/plain": [
       "       ID                   Name  location  Cuisines   rating  Dining_review  \\\n",
       "0       0      Kannur Food Point         1        35  3.80000            557   \n",
       "1       0      Kannur Food Point         1        17  3.80000            557   \n",
       "2       0      Kannur Food Point         1        71  3.80000            557   \n",
       "3       0      Kannur Food Point         1         3  3.80000            557   \n",
       "4       0      Kannur Food Point         1        32  3.80000            557   \n",
       "...   ...                    ...       ...       ...      ...            ...   \n",
       "2881  645  Randhan - A - Bandhan        63        20  3.30000              0   \n",
       "2882  646        Amudham Biryani        63        11  3.97295              0   \n",
       "2883  646        Amudham Biryani        63        71  3.97295              0   \n",
       "2884  647   Green Kitchen Palace        11        11  3.97295              0   \n",
       "2885  647   Green Kitchen Palace        11        72  3.97295              0   \n",
       "\n",
       "      Delivery_Reviews  cost_for_one  \n",
       "0                48300           200  \n",
       "1                48300           200  \n",
       "2                48300           200  \n",
       "3                48300           200  \n",
       "4                48300           200  \n",
       "...                ...           ...  \n",
       "2881               366           200  \n",
       "2882                 0           200  \n",
       "2883                 0           200  \n",
       "2884                 4           200  \n",
       "2885                 4           200  \n",
       "\n",
       "[2885 rows x 8 columns]"
      ]
     },
     "execution_count": 44,
     "metadata": {},
     "output_type": "execute_result"
    }
   ],
   "source": [
    "df2"
   ]
  },
  {
   "cell_type": "code",
   "execution_count": 45,
   "id": "1423ddd6",
   "metadata": {},
   "outputs": [],
   "source": [
    "X2=df2.drop(['Name','ID','rating', 'Dining_review','Delivery_Reviews','cost_for_one'],axis=1)\n",
    "Y2=df2['cost_for_one']"
   ]
  },
  {
   "cell_type": "code",
   "execution_count": 48,
   "id": "3a135e5d",
   "metadata": {},
   "outputs": [
    {
     "data": {
      "text/html": [
       "<div>\n",
       "<style scoped>\n",
       "    .dataframe tbody tr th:only-of-type {\n",
       "        vertical-align: middle;\n",
       "    }\n",
       "\n",
       "    .dataframe tbody tr th {\n",
       "        vertical-align: top;\n",
       "    }\n",
       "\n",
       "    .dataframe thead th {\n",
       "        text-align: right;\n",
       "    }\n",
       "</style>\n",
       "<table border=\"1\" class=\"dataframe\">\n",
       "  <thead>\n",
       "    <tr style=\"text-align: right;\">\n",
       "      <th></th>\n",
       "      <th>location</th>\n",
       "      <th>Cuisines</th>\n",
       "    </tr>\n",
       "  </thead>\n",
       "  <tbody>\n",
       "    <tr>\n",
       "      <th>0</th>\n",
       "      <td>1</td>\n",
       "      <td>35</td>\n",
       "    </tr>\n",
       "    <tr>\n",
       "      <th>1</th>\n",
       "      <td>1</td>\n",
       "      <td>17</td>\n",
       "    </tr>\n",
       "    <tr>\n",
       "      <th>2</th>\n",
       "      <td>1</td>\n",
       "      <td>71</td>\n",
       "    </tr>\n",
       "    <tr>\n",
       "      <th>3</th>\n",
       "      <td>1</td>\n",
       "      <td>3</td>\n",
       "    </tr>\n",
       "    <tr>\n",
       "      <th>4</th>\n",
       "      <td>1</td>\n",
       "      <td>32</td>\n",
       "    </tr>\n",
       "    <tr>\n",
       "      <th>...</th>\n",
       "      <td>...</td>\n",
       "      <td>...</td>\n",
       "    </tr>\n",
       "    <tr>\n",
       "      <th>2881</th>\n",
       "      <td>63</td>\n",
       "      <td>20</td>\n",
       "    </tr>\n",
       "    <tr>\n",
       "      <th>2882</th>\n",
       "      <td>63</td>\n",
       "      <td>11</td>\n",
       "    </tr>\n",
       "    <tr>\n",
       "      <th>2883</th>\n",
       "      <td>63</td>\n",
       "      <td>71</td>\n",
       "    </tr>\n",
       "    <tr>\n",
       "      <th>2884</th>\n",
       "      <td>11</td>\n",
       "      <td>11</td>\n",
       "    </tr>\n",
       "    <tr>\n",
       "      <th>2885</th>\n",
       "      <td>11</td>\n",
       "      <td>72</td>\n",
       "    </tr>\n",
       "  </tbody>\n",
       "</table>\n",
       "<p>2885 rows × 2 columns</p>\n",
       "</div>"
      ],
      "text/plain": [
       "      location  Cuisines\n",
       "0            1        35\n",
       "1            1        17\n",
       "2            1        71\n",
       "3            1         3\n",
       "4            1        32\n",
       "...        ...       ...\n",
       "2881        63        20\n",
       "2882        63        11\n",
       "2883        63        71\n",
       "2884        11        11\n",
       "2885        11        72\n",
       "\n",
       "[2885 rows x 2 columns]"
      ]
     },
     "execution_count": 48,
     "metadata": {},
     "output_type": "execute_result"
    }
   ],
   "source": [
    "X2"
   ]
  },
  {
   "cell_type": "code",
   "execution_count": 49,
   "id": "feab44fe",
   "metadata": {
    "scrolled": false
   },
   "outputs": [
    {
     "data": {
      "text/html": [
       "<style>#sk-container-id-2 {color: black;background-color: white;}#sk-container-id-2 pre{padding: 0;}#sk-container-id-2 div.sk-toggleable {background-color: white;}#sk-container-id-2 label.sk-toggleable__label {cursor: pointer;display: block;width: 100%;margin-bottom: 0;padding: 0.3em;box-sizing: border-box;text-align: center;}#sk-container-id-2 label.sk-toggleable__label-arrow:before {content: \"▸\";float: left;margin-right: 0.25em;color: #696969;}#sk-container-id-2 label.sk-toggleable__label-arrow:hover:before {color: black;}#sk-container-id-2 div.sk-estimator:hover label.sk-toggleable__label-arrow:before {color: black;}#sk-container-id-2 div.sk-toggleable__content {max-height: 0;max-width: 0;overflow: hidden;text-align: left;background-color: #f0f8ff;}#sk-container-id-2 div.sk-toggleable__content pre {margin: 0.2em;color: black;border-radius: 0.25em;background-color: #f0f8ff;}#sk-container-id-2 input.sk-toggleable__control:checked~div.sk-toggleable__content {max-height: 200px;max-width: 100%;overflow: auto;}#sk-container-id-2 input.sk-toggleable__control:checked~label.sk-toggleable__label-arrow:before {content: \"▾\";}#sk-container-id-2 div.sk-estimator input.sk-toggleable__control:checked~label.sk-toggleable__label {background-color: #d4ebff;}#sk-container-id-2 div.sk-label input.sk-toggleable__control:checked~label.sk-toggleable__label {background-color: #d4ebff;}#sk-container-id-2 input.sk-hidden--visually {border: 0;clip: rect(1px 1px 1px 1px);clip: rect(1px, 1px, 1px, 1px);height: 1px;margin: -1px;overflow: hidden;padding: 0;position: absolute;width: 1px;}#sk-container-id-2 div.sk-estimator {font-family: monospace;background-color: #f0f8ff;border: 1px dotted black;border-radius: 0.25em;box-sizing: border-box;margin-bottom: 0.5em;}#sk-container-id-2 div.sk-estimator:hover {background-color: #d4ebff;}#sk-container-id-2 div.sk-parallel-item::after {content: \"\";width: 100%;border-bottom: 1px solid gray;flex-grow: 1;}#sk-container-id-2 div.sk-label:hover label.sk-toggleable__label {background-color: #d4ebff;}#sk-container-id-2 div.sk-serial::before {content: \"\";position: absolute;border-left: 1px solid gray;box-sizing: border-box;top: 0;bottom: 0;left: 50%;z-index: 0;}#sk-container-id-2 div.sk-serial {display: flex;flex-direction: column;align-items: center;background-color: white;padding-right: 0.2em;padding-left: 0.2em;position: relative;}#sk-container-id-2 div.sk-item {position: relative;z-index: 1;}#sk-container-id-2 div.sk-parallel {display: flex;align-items: stretch;justify-content: center;background-color: white;position: relative;}#sk-container-id-2 div.sk-item::before, #sk-container-id-2 div.sk-parallel-item::before {content: \"\";position: absolute;border-left: 1px solid gray;box-sizing: border-box;top: 0;bottom: 0;left: 50%;z-index: -1;}#sk-container-id-2 div.sk-parallel-item {display: flex;flex-direction: column;z-index: 1;position: relative;background-color: white;}#sk-container-id-2 div.sk-parallel-item:first-child::after {align-self: flex-end;width: 50%;}#sk-container-id-2 div.sk-parallel-item:last-child::after {align-self: flex-start;width: 50%;}#sk-container-id-2 div.sk-parallel-item:only-child::after {width: 0;}#sk-container-id-2 div.sk-dashed-wrapped {border: 1px dashed gray;margin: 0 0.4em 0.5em 0.4em;box-sizing: border-box;padding-bottom: 0.4em;background-color: white;}#sk-container-id-2 div.sk-label label {font-family: monospace;font-weight: bold;display: inline-block;line-height: 1.2em;}#sk-container-id-2 div.sk-label-container {text-align: center;}#sk-container-id-2 div.sk-container {/* jupyter's `normalize.less` sets `[hidden] { display: none; }` but bootstrap.min.css set `[hidden] { display: none !important; }` so we also need the `!important` here to be able to override the default hidden behavior on the sphinx rendered scikit-learn.org. See: https://github.com/scikit-learn/scikit-learn/issues/21755 */display: inline-block !important;position: relative;}#sk-container-id-2 div.sk-text-repr-fallback {display: none;}</style><div id=\"sk-container-id-2\" class=\"sk-top-container\"><div class=\"sk-text-repr-fallback\"><pre>DecisionTreeClassifier()</pre><b>In a Jupyter environment, please rerun this cell to show the HTML representation or trust the notebook. <br />On GitHub, the HTML representation is unable to render, please try loading this page with nbviewer.org.</b></div><div class=\"sk-container\" hidden><div class=\"sk-item\"><div class=\"sk-estimator sk-toggleable\"><input class=\"sk-toggleable__control sk-hidden--visually\" id=\"sk-estimator-id-2\" type=\"checkbox\" checked><label for=\"sk-estimator-id-2\" class=\"sk-toggleable__label sk-toggleable__label-arrow\">DecisionTreeClassifier</label><div class=\"sk-toggleable__content\"><pre>DecisionTreeClassifier()</pre></div></div></div></div></div>"
      ],
      "text/plain": [
       "DecisionTreeClassifier()"
      ]
     },
     "execution_count": 49,
     "metadata": {},
     "output_type": "execute_result"
    }
   ],
   "source": [
    "from sklearn.tree import DecisionTreeClassifier\n",
    "dc2=DecisionTreeClassifier()\n",
    "dc2.fit(X2,Y2)"
   ]
  },
  {
   "cell_type": "code",
   "execution_count": 37,
   "id": "6b1e7c17",
   "metadata": {},
   "outputs": [
    {
     "data": {
      "text/plain": [
       "0        1\n",
       "1        1\n",
       "2        1\n",
       "3        1\n",
       "4        1\n",
       "        ..\n",
       "2881    63\n",
       "2882    63\n",
       "2883    63\n",
       "2884    11\n",
       "2885    11\n",
       "Name: location, Length: 2885, dtype: int32"
      ]
     },
     "execution_count": 37,
     "metadata": {},
     "output_type": "execute_result"
    }
   ],
   "source": []
  },
  {
   "cell_type": "code",
   "execution_count": 50,
   "id": "87057e91",
   "metadata": {},
   "outputs": [],
   "source": [
    "c='BTM'#input1"
   ]
  },
  {
   "cell_type": "code",
   "execution_count": 51,
   "id": "5ef22df4",
   "metadata": {},
   "outputs": [],
   "source": [
    "d='Chinese' #input 2"
   ]
  },
  {
   "cell_type": "code",
   "execution_count": 52,
   "id": "eae365aa",
   "metadata": {},
   "outputs": [
    {
     "data": {
      "text/html": [
       "<div>\n",
       "<style scoped>\n",
       "    .dataframe tbody tr th:only-of-type {\n",
       "        vertical-align: middle;\n",
       "    }\n",
       "\n",
       "    .dataframe tbody tr th {\n",
       "        vertical-align: top;\n",
       "    }\n",
       "\n",
       "    .dataframe thead th {\n",
       "        text-align: right;\n",
       "    }\n",
       "</style>\n",
       "<table border=\"1\" class=\"dataframe\">\n",
       "  <thead>\n",
       "    <tr style=\"text-align: right;\">\n",
       "      <th></th>\n",
       "      <th>location</th>\n",
       "      <th>Cuisines</th>\n",
       "    </tr>\n",
       "  </thead>\n",
       "  <tbody>\n",
       "    <tr>\n",
       "      <th>0</th>\n",
       "      <td>BTM</td>\n",
       "      <td>Chinese</td>\n",
       "    </tr>\n",
       "  </tbody>\n",
       "</table>\n",
       "</div>"
      ],
      "text/plain": [
       "  location Cuisines\n",
       "0      BTM  Chinese"
      ]
     },
     "execution_count": 52,
     "metadata": {},
     "output_type": "execute_result"
    }
   ],
   "source": [
    "case2=pd.DataFrame([{\"location\":c,\"Cuisines\":d}])\n",
    "case2"
   ]
  },
  {
   "cell_type": "code",
   "execution_count": 53,
   "id": "0d8e1021",
   "metadata": {},
   "outputs": [],
   "source": [
    "case2[\"Cuisines\"]=le.transform(case2[\"Cuisines\"])"
   ]
  },
  {
   "cell_type": "code",
   "execution_count": 54,
   "id": "bea6bc9c",
   "metadata": {},
   "outputs": [],
   "source": [
    "case2[\"location\"]=le2.transform(case2[\"location\"])"
   ]
  },
  {
   "cell_type": "code",
   "execution_count": 55,
   "id": "85afe73a",
   "metadata": {},
   "outputs": [
    {
     "data": {
      "text/html": [
       "<div>\n",
       "<style scoped>\n",
       "    .dataframe tbody tr th:only-of-type {\n",
       "        vertical-align: middle;\n",
       "    }\n",
       "\n",
       "    .dataframe tbody tr th {\n",
       "        vertical-align: top;\n",
       "    }\n",
       "\n",
       "    .dataframe thead th {\n",
       "        text-align: right;\n",
       "    }\n",
       "</style>\n",
       "<table border=\"1\" class=\"dataframe\">\n",
       "  <thead>\n",
       "    <tr style=\"text-align: right;\">\n",
       "      <th></th>\n",
       "      <th>location</th>\n",
       "      <th>Cuisines</th>\n",
       "    </tr>\n",
       "  </thead>\n",
       "  <tbody>\n",
       "    <tr>\n",
       "      <th>0</th>\n",
       "      <td>1</td>\n",
       "      <td>17</td>\n",
       "    </tr>\n",
       "  </tbody>\n",
       "</table>\n",
       "</div>"
      ],
      "text/plain": [
       "   location  Cuisines\n",
       "0         1        17"
      ]
     },
     "execution_count": 55,
     "metadata": {},
     "output_type": "execute_result"
    }
   ],
   "source": [
    "case2"
   ]
  },
  {
   "cell_type": "code",
   "execution_count": 56,
   "id": "3fc06d6b",
   "metadata": {},
   "outputs": [],
   "source": [
    "y_pred2=dc2.predict(case2)"
   ]
  },
  {
   "cell_type": "code",
   "execution_count": 57,
   "id": "9dba141e",
   "metadata": {},
   "outputs": [
    {
     "data": {
      "text/plain": [
       "array([150], dtype=int64)"
      ]
     },
     "execution_count": 57,
     "metadata": {},
     "output_type": "execute_result"
    }
   ],
   "source": [
    "y_pred2"
   ]
  },
  {
   "cell_type": "code",
   "execution_count": null,
   "id": "ff238b70",
   "metadata": {},
   "outputs": [],
   "source": []
  },
  {
   "cell_type": "code",
   "execution_count": null,
   "id": "3a9ff6a9",
   "metadata": {},
   "outputs": [],
   "source": []
  },
  {
   "cell_type": "code",
   "execution_count": null,
   "id": "088becd3",
   "metadata": {},
   "outputs": [],
   "source": []
  },
  {
   "cell_type": "code",
   "execution_count": null,
   "id": "e8624d9c",
   "metadata": {},
   "outputs": [],
   "source": []
  },
  {
   "cell_type": "code",
   "execution_count": null,
   "id": "f3d94810",
   "metadata": {},
   "outputs": [],
   "source": []
  },
  {
   "cell_type": "code",
   "execution_count": null,
   "id": "2f6e8271",
   "metadata": {},
   "outputs": [],
   "source": []
  },
  {
   "cell_type": "code",
   "execution_count": null,
   "id": "49307c30",
   "metadata": {},
   "outputs": [],
   "source": []
  }
 ],
 "metadata": {
  "kernelspec": {
   "display_name": "Python 3 (ipykernel)",
   "language": "python",
   "name": "python3"
  },
  "language_info": {
   "codemirror_mode": {
    "name": "ipython",
    "version": 3
   },
   "file_extension": ".py",
   "mimetype": "text/x-python",
   "name": "python",
   "nbconvert_exporter": "python",
   "pygments_lexer": "ipython3",
   "version": "3.9.7"
  }
 },
 "nbformat": 4,
 "nbformat_minor": 5
}
