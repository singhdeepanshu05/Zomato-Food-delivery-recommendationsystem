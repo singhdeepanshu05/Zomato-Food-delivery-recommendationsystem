{
 "cells": [
  {
   "cell_type": "code",
   "execution_count": 35,
   "metadata": {},
   "outputs": [],
   "source": [
    "from selenium import webdriver\n",
    "from bs4 import BeautifulSoup\n",
    "import requests\n",
    "import json\n",
    "import pandas as pd\n",
    "from selenium.webdriver.common.by import By"
   ]
  },
  {
   "cell_type": "code",
   "execution_count": 36,
   "metadata": {},
   "outputs": [],
   "source": [
    "import pandas as pd\n",
    "import numpy as np"
   ]
  },
  {
   "cell_type": "code",
   "execution_count": 295,
   "metadata": {},
   "outputs": [
    {
     "name": "stderr",
     "output_type": "stream",
     "text": [
      "C:\\Users\\91940\\AppData\\Local\\Temp\\ipykernel_11372\\2846990326.py:1: DeprecationWarning: executable_path has been deprecated, please pass in a Service object\n",
      "  drive = webdriver.Chrome(\"chromedriver.exe\")\n"
     ]
    }
   ],
   "source": [
    "drive = webdriver.Chrome(\"chromedriver.exe\")"
   ]
  },
  {
   "cell_type": "code",
   "execution_count": 296,
   "metadata": {},
   "outputs": [],
   "source": [
    "link =\"https://www.zomato.com/bangalore\"\n",
    "drive.get(link)\n",
    "drive.implicitly_wait(10)"
   ]
  },
  {
   "cell_type": "code",
   "execution_count": 169,
   "metadata": {},
   "outputs": [],
   "source": [
    "drive.execute_script(\"window.scrollTo(0,47000)\")\n"
   ]
  },
  {
   "cell_type": "code",
   "execution_count": 187,
   "metadata": {},
   "outputs": [],
   "source": [
    "card= drive.find_elements(By.CLASS_NAME,\"sc-1hp8d8a-0\")"
   ]
  },
  {
   "cell_type": "code",
   "execution_count": 188,
   "metadata": {},
   "outputs": [
    {
     "data": {
      "text/plain": [
       "649"
      ]
     },
     "execution_count": 188,
     "metadata": {},
     "output_type": "execute_result"
    }
   ],
   "source": [
    "len(card)"
   ]
  },
  {
   "cell_type": "code",
   "execution_count": 189,
   "metadata": {},
   "outputs": [],
   "source": [
    "name_of_restro= list()\n",
    "for i in card:\n",
    "    name_of_restro.append(i.text)"
   ]
  },
  {
   "cell_type": "code",
   "execution_count": 190,
   "metadata": {},
   "outputs": [],
   "source": [
    "df=pd.DataFrame(name_of_restro)"
   ]
  },
  {
   "cell_type": "code",
   "execution_count": 191,
   "metadata": {},
   "outputs": [],
   "source": [
    "df.columns=[\"Name\"]"
   ]
  },
  {
   "cell_type": "code",
   "execution_count": 246,
   "metadata": {},
   "outputs": [],
   "source": [
    "#df"
   ]
  },
  {
   "cell_type": "code",
   "execution_count": 195,
   "metadata": {},
   "outputs": [],
   "source": [
    "df.drop(index=648,inplace=True,axis=1)"
   ]
  },
  {
   "cell_type": "code",
   "execution_count": 193,
   "metadata": {},
   "outputs": [],
   "source": [
    "cousin_list=list()\n",
    "cousin= drive.find_elements(By.CLASS_NAME,\"hocLxt\")\n",
    "for i in cousin:\n",
    "    cousin_list.append(i.text)"
   ]
  },
  {
   "cell_type": "code",
   "execution_count": 244,
   "metadata": {},
   "outputs": [],
   "source": [
    "#df"
   ]
  },
  {
   "cell_type": "code",
   "execution_count": 196,
   "metadata": {},
   "outputs": [
    {
     "data": {
      "text/plain": [
       "648"
      ]
     },
     "execution_count": 196,
     "metadata": {},
     "output_type": "execute_result"
    }
   ],
   "source": [
    "len(cousin_list)"
   ]
  },
  {
   "cell_type": "code",
   "execution_count": 197,
   "metadata": {},
   "outputs": [],
   "source": [
    "df.insert(1,\"Cousin\",cousin_list)"
   ]
  },
  {
   "cell_type": "code",
   "execution_count": 245,
   "metadata": {},
   "outputs": [],
   "source": [
    "#df"
   ]
  },
  {
   "cell_type": "code",
   "execution_count": 199,
   "metadata": {},
   "outputs": [],
   "source": [
    "cost_for_one=list()\n",
    "cost= drive.find_elements(By.CLASS_NAME,\"dengqu\")\n",
    "for i in cost:\n",
    "    cost_for_one.append(i.text)"
   ]
  },
  {
   "cell_type": "code",
   "execution_count": 200,
   "metadata": {},
   "outputs": [],
   "source": [
    "df.insert(2,\"Cost_for_one\",cost_for_one)"
   ]
  },
  {
   "cell_type": "code",
   "execution_count": null,
   "metadata": {},
   "outputs": [],
   "source": [
    "#df"
   ]
  },
  {
   "cell_type": "code",
   "execution_count": null,
   "metadata": {},
   "outputs": [],
   "source": [
    "#df.tail(20)"
   ]
  },
  {
   "cell_type": "code",
   "execution_count": 201,
   "metadata": {},
   "outputs": [],
   "source": [
    "\n",
    "rating=list()\n",
    "rat= drive.find_elements(By.CLASS_NAME,\"cILgox\")\n",
    "for i in rat:\n",
    "    rating.append(i.text)"
   ]
  },
  {
   "cell_type": "code",
   "execution_count": 202,
   "metadata": {},
   "outputs": [],
   "source": [
    "df.insert(3,\"Rating\",rating)"
   ]
  },
  {
   "cell_type": "code",
   "execution_count": 203,
   "metadata": {},
   "outputs": [
    {
     "data": {
      "text/html": [
       "<div>\n",
       "<style scoped>\n",
       "    .dataframe tbody tr th:only-of-type {\n",
       "        vertical-align: middle;\n",
       "    }\n",
       "\n",
       "    .dataframe tbody tr th {\n",
       "        vertical-align: top;\n",
       "    }\n",
       "\n",
       "    .dataframe thead th {\n",
       "        text-align: right;\n",
       "    }\n",
       "</style>\n",
       "<table border=\"1\" class=\"dataframe\">\n",
       "  <thead>\n",
       "    <tr style=\"text-align: right;\">\n",
       "      <th></th>\n",
       "      <th>Name</th>\n",
       "      <th>Cousin</th>\n",
       "      <th>Cost_for_one</th>\n",
       "      <th>Rating</th>\n",
       "    </tr>\n",
       "  </thead>\n",
       "  <tbody>\n",
       "    <tr>\n",
       "      <th>0</th>\n",
       "      <td>Kannur Food Point</td>\n",
       "      <td>Kerala, Chinese, South Indian, Arabian, Juices...</td>\n",
       "      <td>₹200 for one</td>\n",
       "      <td>3.8</td>\n",
       "    </tr>\n",
       "    <tr>\n",
       "      <th>1</th>\n",
       "      <td>Empire Restaurant</td>\n",
       "      <td>North Indian, Biryani, Kebab, Chinese, South I...</td>\n",
       "      <td>₹200 for one</td>\n",
       "      <td>4.0</td>\n",
       "    </tr>\n",
       "    <tr>\n",
       "      <th>2</th>\n",
       "      <td>Falahaar &amp; Kota Kachori</td>\n",
       "      <td>North Indian, Rajasthani, Fast Food, Mithai, B...</td>\n",
       "      <td>₹200 for one</td>\n",
       "      <td>3.9</td>\n",
       "    </tr>\n",
       "    <tr>\n",
       "      <th>3</th>\n",
       "      <td>Domino's Pizza</td>\n",
       "      <td>Pizza, Fast Food, Desserts, Beverages</td>\n",
       "      <td>₹200 for one</td>\n",
       "      <td>3.6</td>\n",
       "    </tr>\n",
       "    <tr>\n",
       "      <th>4</th>\n",
       "      <td>Sri Srinivas Pork Hotel</td>\n",
       "      <td>Fast Food</td>\n",
       "      <td>₹200 for one</td>\n",
       "      <td>3.3</td>\n",
       "    </tr>\n",
       "    <tr>\n",
       "      <th>...</th>\n",
       "      <td>...</td>\n",
       "      <td>...</td>\n",
       "      <td>...</td>\n",
       "      <td>...</td>\n",
       "    </tr>\n",
       "    <tr>\n",
       "      <th>643</th>\n",
       "      <td>Hotel New Prashanth Naati Shyli</td>\n",
       "      <td>Chinese, North Indian, South Indian, Beverages</td>\n",
       "      <td>₹200 for one</td>\n",
       "      <td>-</td>\n",
       "    </tr>\n",
       "    <tr>\n",
       "      <th>644</th>\n",
       "      <td>Samruddi Nonveg</td>\n",
       "      <td>South Indian, Biryani</td>\n",
       "      <td>₹200 for one</td>\n",
       "      <td>-</td>\n",
       "    </tr>\n",
       "    <tr>\n",
       "      <th>645</th>\n",
       "      <td>Randhan - A - Bandhan</td>\n",
       "      <td>Bengali, Mughlai, North Indian, Chinese, Rolls...</td>\n",
       "      <td>₹200 for one</td>\n",
       "      <td>3.3</td>\n",
       "    </tr>\n",
       "    <tr>\n",
       "      <th>646</th>\n",
       "      <td>Amudham Biryani</td>\n",
       "      <td>Biryani, South Indian</td>\n",
       "      <td>₹200 for one</td>\n",
       "      <td>-</td>\n",
       "    </tr>\n",
       "    <tr>\n",
       "      <th>647</th>\n",
       "      <td>Green Kitchen Palace</td>\n",
       "      <td>Biryani, Street Food</td>\n",
       "      <td>₹200 for one</td>\n",
       "      <td>-</td>\n",
       "    </tr>\n",
       "  </tbody>\n",
       "</table>\n",
       "<p>648 rows × 4 columns</p>\n",
       "</div>"
      ],
      "text/plain": [
       "                                Name  \\\n",
       "0                  Kannur Food Point   \n",
       "1                  Empire Restaurant   \n",
       "2            Falahaar & Kota Kachori   \n",
       "3                     Domino's Pizza   \n",
       "4            Sri Srinivas Pork Hotel   \n",
       "..                               ...   \n",
       "643  Hotel New Prashanth Naati Shyli   \n",
       "644                  Samruddi Nonveg   \n",
       "645            Randhan - A - Bandhan   \n",
       "646                  Amudham Biryani   \n",
       "647             Green Kitchen Palace   \n",
       "\n",
       "                                                Cousin  Cost_for_one Rating  \n",
       "0    Kerala, Chinese, South Indian, Arabian, Juices...  ₹200 for one    3.8  \n",
       "1    North Indian, Biryani, Kebab, Chinese, South I...  ₹200 for one    4.0  \n",
       "2    North Indian, Rajasthani, Fast Food, Mithai, B...  ₹200 for one    3.9  \n",
       "3                Pizza, Fast Food, Desserts, Beverages  ₹200 for one    3.6  \n",
       "4                                            Fast Food  ₹200 for one    3.3  \n",
       "..                                                 ...           ...    ...  \n",
       "643     Chinese, North Indian, South Indian, Beverages  ₹200 for one      -  \n",
       "644                              South Indian, Biryani  ₹200 for one      -  \n",
       "645  Bengali, Mughlai, North Indian, Chinese, Rolls...  ₹200 for one    3.3  \n",
       "646                              Biryani, South Indian  ₹200 for one      -  \n",
       "647                               Biryani, Street Food  ₹200 for one      -  \n",
       "\n",
       "[648 rows x 4 columns]"
      ]
     },
     "execution_count": 203,
     "metadata": {},
     "output_type": "execute_result"
    }
   ],
   "source": [
    "df"
   ]
  },
  {
   "cell_type": "code",
   "execution_count": 209,
   "metadata": {},
   "outputs": [],
   "source": [
    "#df.to_csv(r\"C:\\Users\\91940\\Downloads\\sample1.csv\",index=True)"
   ]
  },
  {
   "cell_type": "code",
   "execution_count": 210,
   "metadata": {},
   "outputs": [
    {
     "data": {
      "text/plain": [
       "['Empire Restaurant']"
      ]
     },
     "execution_count": 210,
     "metadata": {},
     "output_type": "execute_result"
    }
   ],
   "source": [
    "name_of_restro[1:2]"
   ]
  },
  {
   "cell_type": "code",
   "execution_count": 215,
   "metadata": {},
   "outputs": [
    {
     "name": "stderr",
     "output_type": "stream",
     "text": [
      "C:\\Users\\91940\\AppData\\Local\\Temp\\ipykernel_11372\\2447269316.py:1: DeprecationWarning: find_element_by_class_name is deprecated. Please use find_element(by=By.CLASS_NAME, value=name) instead\n",
      "  drive.find_element_by_class_name(\"fKpBnR\").text\n"
     ]
    },
    {
     "data": {
      "text/plain": [
       "'Kannur Food Point\\n3.8\\nKerala, Chinese, South Indian, Arabian, Juices, Beverages, Shake\\n₹200 for one\\n35150+ orders placed from here recently'"
      ]
     },
     "execution_count": 215,
     "metadata": {},
     "output_type": "execute_result"
    }
   ],
   "source": [
    "drive.find_element_by_class_name(\"fKpBnR\")"
   ]
  },
  {
   "cell_type": "code",
   "execution_count": 224,
   "metadata": {},
   "outputs": [
    {
     "name": "stderr",
     "output_type": "stream",
     "text": [
      "C:\\Users\\91940\\AppData\\Local\\Temp\\ipykernel_11372\\4131801427.py:2: DeprecationWarning: find_elements_by_class_name is deprecated. Please use find_elements(by=By.CLASS_NAME, value=name) instead\n",
      "  lnks=drive.find_elements_by_class_name(\"ctkAaV\")\n"
     ]
    }
   ],
   "source": [
    "links=[]\n",
    "lnks=drive.find_elements_by_class_name(\"ctkAaV\")\n",
    "# traverse list\n",
    "for lnk in lnks:\n",
    "   # get_attribute() to get all href\n",
    "   links.append(lnk.get_attribute(\"href\"))"
   ]
  },
  {
   "cell_type": "markdown",
   "metadata": {},
   "source": []
  },
  {
   "cell_type": "code",
   "execution_count": 272,
   "metadata": {},
   "outputs": [],
   "source": [
    "import time"
   ]
  },
  {
   "cell_type": "code",
   "execution_count": 333,
   "metadata": {},
   "outputs": [
    {
     "name": "stderr",
     "output_type": "stream",
     "text": [
      "C:\\Users\\91940\\AppData\\Local\\Temp\\ipykernel_11372\\2236002894.py:8: DeprecationWarning: find_element_by_class_name is deprecated. Please use find_element(by=By.CLASS_NAME, value=name) instead\n",
      "  name_o=drive.find_element_by_class_name(\"eAhpQG\")\n",
      "C:\\Users\\91940\\AppData\\Local\\Temp\\ipykernel_11372\\2236002894.py:9: DeprecationWarning: find_element_by_class_name is deprecated. Please use find_element(by=By.CLASS_NAME, value=name) instead\n",
      "  loc=drive.find_element_by_class_name(\"fDVcNc\")\n",
      "C:\\Users\\91940\\AppData\\Local\\Temp\\ipykernel_11372\\2236002894.py:10: DeprecationWarning: find_elements_by_class_name is deprecated. Please use find_elements(by=By.CLASS_NAME, value=name) instead\n",
      "  del_rev=drive.find_elements_by_class_name(\"kEgyiI\")\n"
     ]
    }
   ],
   "source": [
    "location=[]\n",
    "delivery_review=[]\n",
    "dining_review=[]\n",
    "Name=[]\n",
    "direction=[]\n",
    "for i in links:\n",
    "    drive.get(i)\n",
    "    name_o=drive.find_element_by_class_name(\"eAhpQG\")\n",
    "    loc=drive.find_element_by_class_name(\"fDVcNc\")\n",
    "    del_rev=drive.find_elements_by_class_name(\"kEgyiI\")\n",
    "    Name.append(name_o.text)\n",
    "    location.append(loc.text)\n",
    "    if len(del_rev)==1:\n",
    "        delivery_review.append('0')\n",
    "        dining_review.append('0')\n",
    "    else:\n",
    "        for i in range(len(del_rev)):\n",
    "            if i ==0 :\n",
    "                dining_review.append(del_rev[i].text)\n",
    "            elif i==1:\n",
    "                delivery_review.append(del_rev[i].text)\n",
    "        \n",
    "    \n",
    "        \n",
    "    "
   ]
  },
  {
   "cell_type": "code",
   "execution_count": 334,
   "metadata": {},
   "outputs": [
    {
     "data": {
      "text/plain": [
       "'4'"
      ]
     },
     "execution_count": 334,
     "metadata": {},
     "output_type": "execute_result"
    }
   ],
   "source": [
    "delivery_review[-1]"
   ]
  },
  {
   "cell_type": "code",
   "execution_count": 335,
   "metadata": {},
   "outputs": [
    {
     "data": {
      "text/plain": [
       "'Green Kitchen Palace'"
      ]
     },
     "execution_count": 335,
     "metadata": {},
     "output_type": "execute_result"
    }
   ],
   "source": [
    "Name[-1]"
   ]
  },
  {
   "cell_type": "code",
   "execution_count": 336,
   "metadata": {},
   "outputs": [
    {
     "data": {
      "text/plain": [
       "'0'"
      ]
     },
     "execution_count": 336,
     "metadata": {},
     "output_type": "execute_result"
    }
   ],
   "source": [
    "dining_review[-1]"
   ]
  },
  {
   "cell_type": "code",
   "execution_count": 337,
   "metadata": {},
   "outputs": [],
   "source": [
    "df2=pd.DataFrame()"
   ]
  },
  {
   "cell_type": "code",
   "execution_count": 338,
   "metadata": {},
   "outputs": [],
   "source": [
    "df2.insert(0,\"Name\",Name)"
   ]
  },
  {
   "cell_type": "code",
   "execution_count": 339,
   "metadata": {},
   "outputs": [
    {
     "data": {
      "text/html": [
       "<div>\n",
       "<style scoped>\n",
       "    .dataframe tbody tr th:only-of-type {\n",
       "        vertical-align: middle;\n",
       "    }\n",
       "\n",
       "    .dataframe tbody tr th {\n",
       "        vertical-align: top;\n",
       "    }\n",
       "\n",
       "    .dataframe thead th {\n",
       "        text-align: right;\n",
       "    }\n",
       "</style>\n",
       "<table border=\"1\" class=\"dataframe\">\n",
       "  <thead>\n",
       "    <tr style=\"text-align: right;\">\n",
       "      <th></th>\n",
       "      <th>Name</th>\n",
       "    </tr>\n",
       "  </thead>\n",
       "  <tbody>\n",
       "    <tr>\n",
       "      <th>0</th>\n",
       "      <td>Kannur Food Point</td>\n",
       "    </tr>\n",
       "    <tr>\n",
       "      <th>1</th>\n",
       "      <td>Empire Restaurant</td>\n",
       "    </tr>\n",
       "    <tr>\n",
       "      <th>2</th>\n",
       "      <td>Falahaar &amp; Kota Kachori</td>\n",
       "    </tr>\n",
       "    <tr>\n",
       "      <th>3</th>\n",
       "      <td>Domino's Pizza</td>\n",
       "    </tr>\n",
       "    <tr>\n",
       "      <th>4</th>\n",
       "      <td>Sri Srinivas Pork Hotel</td>\n",
       "    </tr>\n",
       "    <tr>\n",
       "      <th>...</th>\n",
       "      <td>...</td>\n",
       "    </tr>\n",
       "    <tr>\n",
       "      <th>643</th>\n",
       "      <td>Hotel New Prashanth Naati Shyli</td>\n",
       "    </tr>\n",
       "    <tr>\n",
       "      <th>644</th>\n",
       "      <td>Samruddi Nonveg</td>\n",
       "    </tr>\n",
       "    <tr>\n",
       "      <th>645</th>\n",
       "      <td>Randhan - A - Bandhan</td>\n",
       "    </tr>\n",
       "    <tr>\n",
       "      <th>646</th>\n",
       "      <td>Amudham Biryani</td>\n",
       "    </tr>\n",
       "    <tr>\n",
       "      <th>647</th>\n",
       "      <td>Green Kitchen Palace</td>\n",
       "    </tr>\n",
       "  </tbody>\n",
       "</table>\n",
       "<p>648 rows × 1 columns</p>\n",
       "</div>"
      ],
      "text/plain": [
       "                                Name\n",
       "0                  Kannur Food Point\n",
       "1                  Empire Restaurant\n",
       "2            Falahaar & Kota Kachori\n",
       "3                     Domino's Pizza\n",
       "4            Sri Srinivas Pork Hotel\n",
       "..                               ...\n",
       "643  Hotel New Prashanth Naati Shyli\n",
       "644                  Samruddi Nonveg\n",
       "645            Randhan - A - Bandhan\n",
       "646                  Amudham Biryani\n",
       "647             Green Kitchen Palace\n",
       "\n",
       "[648 rows x 1 columns]"
      ]
     },
     "execution_count": 339,
     "metadata": {},
     "output_type": "execute_result"
    }
   ],
   "source": [
    "df2"
   ]
  },
  {
   "cell_type": "code",
   "execution_count": 340,
   "metadata": {},
   "outputs": [],
   "source": [
    "df2.insert(1,\"Location\",location)"
   ]
  },
  {
   "cell_type": "code",
   "execution_count": 341,
   "metadata": {},
   "outputs": [],
   "source": [
    "df2.insert(2,\"Dining_Review\",dining_review)"
   ]
  },
  {
   "cell_type": "code",
   "execution_count": 342,
   "metadata": {},
   "outputs": [],
   "source": [
    "df2.insert(3,\"Delivery_review\",delivery_review)"
   ]
  },
  {
   "cell_type": "code",
   "execution_count": 343,
   "metadata": {},
   "outputs": [
    {
     "data": {
      "text/html": [
       "<div>\n",
       "<style scoped>\n",
       "    .dataframe tbody tr th:only-of-type {\n",
       "        vertical-align: middle;\n",
       "    }\n",
       "\n",
       "    .dataframe tbody tr th {\n",
       "        vertical-align: top;\n",
       "    }\n",
       "\n",
       "    .dataframe thead th {\n",
       "        text-align: right;\n",
       "    }\n",
       "</style>\n",
       "<table border=\"1\" class=\"dataframe\">\n",
       "  <thead>\n",
       "    <tr style=\"text-align: right;\">\n",
       "      <th></th>\n",
       "      <th>Name</th>\n",
       "      <th>Location</th>\n",
       "      <th>Dining_Review</th>\n",
       "      <th>Delivery_review</th>\n",
       "    </tr>\n",
       "  </thead>\n",
       "  <tbody>\n",
       "    <tr>\n",
       "      <th>0</th>\n",
       "      <td>Kannur Food Point</td>\n",
       "      <td>BTM, Bangalore</td>\n",
       "      <td>557</td>\n",
       "      <td>48.3K</td>\n",
       "    </tr>\n",
       "    <tr>\n",
       "      <th>1</th>\n",
       "      <td>Empire Restaurant</td>\n",
       "      <td>Church Street, Bangalore</td>\n",
       "      <td>4,501</td>\n",
       "      <td>14.3K</td>\n",
       "    </tr>\n",
       "    <tr>\n",
       "      <th>2</th>\n",
       "      <td>Falahaar &amp; Kota Kachori</td>\n",
       "      <td>Koramangala 7th Block, Bangalore</td>\n",
       "      <td>3,671</td>\n",
       "      <td>80K</td>\n",
       "    </tr>\n",
       "    <tr>\n",
       "      <th>3</th>\n",
       "      <td>Domino's Pizza</td>\n",
       "      <td>MG Road, Bangalore</td>\n",
       "      <td>83</td>\n",
       "      <td>1,966</td>\n",
       "    </tr>\n",
       "    <tr>\n",
       "      <th>4</th>\n",
       "      <td>Sri Srinivas Pork Hotel</td>\n",
       "      <td>Ejipura, Bangalore</td>\n",
       "      <td>41</td>\n",
       "      <td>2,384</td>\n",
       "    </tr>\n",
       "    <tr>\n",
       "      <th>...</th>\n",
       "      <td>...</td>\n",
       "      <td>...</td>\n",
       "      <td>...</td>\n",
       "      <td>...</td>\n",
       "    </tr>\n",
       "    <tr>\n",
       "      <th>643</th>\n",
       "      <td>Hotel New Prashanth Naati Shyli</td>\n",
       "      <td>Majestic, Bangalore</td>\n",
       "      <td>0</td>\n",
       "      <td>18</td>\n",
       "    </tr>\n",
       "    <tr>\n",
       "      <th>644</th>\n",
       "      <td>Samruddi Nonveg</td>\n",
       "      <td>City Market, Bangalore</td>\n",
       "      <td>0</td>\n",
       "      <td>2</td>\n",
       "    </tr>\n",
       "    <tr>\n",
       "      <th>645</th>\n",
       "      <td>Randhan - A - Bandhan</td>\n",
       "      <td>Wilson Garden, Bangalore</td>\n",
       "      <td>0</td>\n",
       "      <td>366</td>\n",
       "    </tr>\n",
       "    <tr>\n",
       "      <th>646</th>\n",
       "      <td>Amudham Biryani</td>\n",
       "      <td>Wilson Garden, Bangalore</td>\n",
       "      <td>0</td>\n",
       "      <td>0</td>\n",
       "    </tr>\n",
       "    <tr>\n",
       "      <th>647</th>\n",
       "      <td>Green Kitchen Palace</td>\n",
       "      <td>City Market, Bangalore</td>\n",
       "      <td>0</td>\n",
       "      <td>4</td>\n",
       "    </tr>\n",
       "  </tbody>\n",
       "</table>\n",
       "<p>648 rows × 4 columns</p>\n",
       "</div>"
      ],
      "text/plain": [
       "                                Name                          Location  \\\n",
       "0                  Kannur Food Point                    BTM, Bangalore   \n",
       "1                  Empire Restaurant          Church Street, Bangalore   \n",
       "2            Falahaar & Kota Kachori  Koramangala 7th Block, Bangalore   \n",
       "3                     Domino's Pizza                MG Road, Bangalore   \n",
       "4            Sri Srinivas Pork Hotel                Ejipura, Bangalore   \n",
       "..                               ...                               ...   \n",
       "643  Hotel New Prashanth Naati Shyli               Majestic, Bangalore   \n",
       "644                  Samruddi Nonveg            City Market, Bangalore   \n",
       "645            Randhan - A - Bandhan          Wilson Garden, Bangalore   \n",
       "646                  Amudham Biryani          Wilson Garden, Bangalore   \n",
       "647             Green Kitchen Palace            City Market, Bangalore   \n",
       "\n",
       "    Dining_Review Delivery_review  \n",
       "0             557           48.3K  \n",
       "1           4,501           14.3K  \n",
       "2           3,671             80K  \n",
       "3              83           1,966  \n",
       "4              41           2,384  \n",
       "..            ...             ...  \n",
       "643             0              18  \n",
       "644             0               2  \n",
       "645             0             366  \n",
       "646             0               0  \n",
       "647             0               4  \n",
       "\n",
       "[648 rows x 4 columns]"
      ]
     },
     "execution_count": 343,
     "metadata": {},
     "output_type": "execute_result"
    }
   ],
   "source": [
    "df2"
   ]
  },
  {
   "cell_type": "code",
   "execution_count": 349,
   "metadata": {},
   "outputs": [],
   "source": [
    "#df2.to_csv(r\"C:\\Users\\91940\\Downloads\\table1.csv\",index=True)"
   ]
  },
  {
   "cell_type": "code",
   "execution_count": 347,
   "metadata": {},
   "outputs": [],
   "source": [
    "df.insert(4,\"Restro_links\",links)"
   ]
  },
  {
   "cell_type": "code",
   "execution_count": 352,
   "metadata": {},
   "outputs": [],
   "source": [
    "#df.to_csv(r\"C:\\Users\\91940\\Downloads\\table1.csv\",index=True,header=True)"
   ]
  },
  {
   "cell_type": "code",
   "execution_count": null,
   "metadata": {},
   "outputs": [],
   "source": []
  }
 ],
 "metadata": {
  "kernelspec": {
   "display_name": "Python 3.9.12 ('base')",
   "language": "python",
   "name": "python3"
  },
  "language_info": {
   "codemirror_mode": {
    "name": "ipython",
    "version": 3
   },
   "file_extension": ".py",
   "mimetype": "text/x-python",
   "name": "python",
   "nbconvert_exporter": "python",
   "pygments_lexer": "ipython3",
   "version": "3.9.12"
  },
  "orig_nbformat": 4,
  "vscode": {
   "interpreter": {
    "hash": "a81f9c8e4d77b662dc413a93f7c2826c99d2f1c3f5bd35735156a034d97bd3d1"
   }
  }
 },
 "nbformat": 4,
 "nbformat_minor": 2
}
