{
 "cells": [
  {
   "cell_type": "code",
   "execution_count": 3,
   "metadata": {},
   "outputs": [],
   "source": [
    "import pandas as pd\n",
    "import numpy as np"
   ]
  },
  {
   "cell_type": "code",
   "execution_count": 4,
   "metadata": {},
   "outputs": [],
   "source": [
    "df=pd.read_csv(r\"C:\\Users\\91940\\Downloads\\table2.csv\")"
   ]
  },
  {
   "cell_type": "code",
   "execution_count": 6,
   "metadata": {},
   "outputs": [
    {
     "data": {
      "text/html": [
       "<div>\n",
       "<style scoped>\n",
       "    .dataframe tbody tr th:only-of-type {\n",
       "        vertical-align: middle;\n",
       "    }\n",
       "\n",
       "    .dataframe tbody tr th {\n",
       "        vertical-align: top;\n",
       "    }\n",
       "\n",
       "    .dataframe thead th {\n",
       "        text-align: right;\n",
       "    }\n",
       "</style>\n",
       "<table border=\"1\" class=\"dataframe\">\n",
       "  <thead>\n",
       "    <tr style=\"text-align: right;\">\n",
       "      <th></th>\n",
       "      <th>ID</th>\n",
       "      <th>Name</th>\n",
       "      <th>Cousin</th>\n",
       "      <th>Cost_for_one</th>\n",
       "      <th>Rating</th>\n",
       "      <th>Restro_links</th>\n",
       "    </tr>\n",
       "  </thead>\n",
       "  <tbody>\n",
       "    <tr>\n",
       "      <th>0</th>\n",
       "      <td>0</td>\n",
       "      <td>Kannur Food Point</td>\n",
       "      <td>Kerala, Chinese, South Indian, Arabian, Juices...</td>\n",
       "      <td>200</td>\n",
       "      <td>3.8</td>\n",
       "      <td>https://www.zomato.com/bangalore/kannur-food-p...</td>\n",
       "    </tr>\n",
       "    <tr>\n",
       "      <th>1</th>\n",
       "      <td>1</td>\n",
       "      <td>Empire Restaurant</td>\n",
       "      <td>North Indian, Biryani, Kebab, Chinese, South I...</td>\n",
       "      <td>200</td>\n",
       "      <td>4</td>\n",
       "      <td>https://www.zomato.com/bangalore/empire-restau...</td>\n",
       "    </tr>\n",
       "    <tr>\n",
       "      <th>2</th>\n",
       "      <td>2</td>\n",
       "      <td>Falahaar &amp; Kota Kachori</td>\n",
       "      <td>North Indian, Rajasthani, Fast Food, Mithai, B...</td>\n",
       "      <td>200</td>\n",
       "      <td>3.9</td>\n",
       "      <td>https://www.zomato.com/bangalore/falahaar-kota...</td>\n",
       "    </tr>\n",
       "    <tr>\n",
       "      <th>3</th>\n",
       "      <td>3</td>\n",
       "      <td>Domino's Pizza</td>\n",
       "      <td>Pizza, Fast Food, Desserts, Beverages</td>\n",
       "      <td>200</td>\n",
       "      <td>3.6</td>\n",
       "      <td>https://www.zomato.com/bangalore/dominos-pizza...</td>\n",
       "    </tr>\n",
       "    <tr>\n",
       "      <th>4</th>\n",
       "      <td>4</td>\n",
       "      <td>Sri Srinivas Pork Hotel</td>\n",
       "      <td>Fast Food</td>\n",
       "      <td>200</td>\n",
       "      <td>3.3</td>\n",
       "      <td>https://www.zomato.com/bangalore/sri-srinivas-...</td>\n",
       "    </tr>\n",
       "    <tr>\n",
       "      <th>...</th>\n",
       "      <td>...</td>\n",
       "      <td>...</td>\n",
       "      <td>...</td>\n",
       "      <td>...</td>\n",
       "      <td>...</td>\n",
       "      <td>...</td>\n",
       "    </tr>\n",
       "    <tr>\n",
       "      <th>643</th>\n",
       "      <td>643</td>\n",
       "      <td>Hotel New Prashanth Naati Shyli</td>\n",
       "      <td>Chinese, North Indian, South Indian, Beverages</td>\n",
       "      <td>200</td>\n",
       "      <td>-</td>\n",
       "      <td>https://www.zomato.com/bangalore/hotel-new-pra...</td>\n",
       "    </tr>\n",
       "    <tr>\n",
       "      <th>644</th>\n",
       "      <td>644</td>\n",
       "      <td>Samruddi Nonveg</td>\n",
       "      <td>South Indian, Biryani</td>\n",
       "      <td>200</td>\n",
       "      <td>-</td>\n",
       "      <td>https://www.zomato.com/bangalore/samruddi-nonv...</td>\n",
       "    </tr>\n",
       "    <tr>\n",
       "      <th>645</th>\n",
       "      <td>645</td>\n",
       "      <td>Randhan - A - Bandhan</td>\n",
       "      <td>Bengali, Mughlai, North Indian, Chinese, Rolls...</td>\n",
       "      <td>200</td>\n",
       "      <td>3.3</td>\n",
       "      <td>https://www.zomato.com/bangalore/randhan-a-ban...</td>\n",
       "    </tr>\n",
       "    <tr>\n",
       "      <th>646</th>\n",
       "      <td>646</td>\n",
       "      <td>Amudham Biryani</td>\n",
       "      <td>Biryani, South Indian</td>\n",
       "      <td>200</td>\n",
       "      <td>-</td>\n",
       "      <td>https://www.zomato.com/bangalore/amudham-birya...</td>\n",
       "    </tr>\n",
       "    <tr>\n",
       "      <th>647</th>\n",
       "      <td>647</td>\n",
       "      <td>Green Kitchen Palace</td>\n",
       "      <td>Biryani, Street Food</td>\n",
       "      <td>200</td>\n",
       "      <td>-</td>\n",
       "      <td>https://www.zomato.com/bangalore/green-kitchen...</td>\n",
       "    </tr>\n",
       "  </tbody>\n",
       "</table>\n",
       "<p>648 rows × 6 columns</p>\n",
       "</div>"
      ],
      "text/plain": [
       "      ID                             Name  \\\n",
       "0      0                Kannur Food Point   \n",
       "1      1                Empire Restaurant   \n",
       "2      2          Falahaar & Kota Kachori   \n",
       "3      3                   Domino's Pizza   \n",
       "4      4          Sri Srinivas Pork Hotel   \n",
       "..   ...                              ...   \n",
       "643  643  Hotel New Prashanth Naati Shyli   \n",
       "644  644                  Samruddi Nonveg   \n",
       "645  645            Randhan - A - Bandhan   \n",
       "646  646                  Amudham Biryani   \n",
       "647  647             Green Kitchen Palace   \n",
       "\n",
       "                                                Cousin  Cost_for_one Rating  \\\n",
       "0    Kerala, Chinese, South Indian, Arabian, Juices...           200    3.8   \n",
       "1    North Indian, Biryani, Kebab, Chinese, South I...           200      4   \n",
       "2    North Indian, Rajasthani, Fast Food, Mithai, B...           200    3.9   \n",
       "3                Pizza, Fast Food, Desserts, Beverages           200    3.6   \n",
       "4                                            Fast Food           200    3.3   \n",
       "..                                                 ...           ...    ...   \n",
       "643     Chinese, North Indian, South Indian, Beverages           200      -   \n",
       "644                              South Indian, Biryani           200      -   \n",
       "645  Bengali, Mughlai, North Indian, Chinese, Rolls...           200    3.3   \n",
       "646                              Biryani, South Indian           200      -   \n",
       "647                               Biryani, Street Food           200      -   \n",
       "\n",
       "                                          Restro_links  \n",
       "0    https://www.zomato.com/bangalore/kannur-food-p...  \n",
       "1    https://www.zomato.com/bangalore/empire-restau...  \n",
       "2    https://www.zomato.com/bangalore/falahaar-kota...  \n",
       "3    https://www.zomato.com/bangalore/dominos-pizza...  \n",
       "4    https://www.zomato.com/bangalore/sri-srinivas-...  \n",
       "..                                                 ...  \n",
       "643  https://www.zomato.com/bangalore/hotel-new-pra...  \n",
       "644  https://www.zomato.com/bangalore/samruddi-nonv...  \n",
       "645  https://www.zomato.com/bangalore/randhan-a-ban...  \n",
       "646  https://www.zomato.com/bangalore/amudham-birya...  \n",
       "647  https://www.zomato.com/bangalore/green-kitchen...  \n",
       "\n",
       "[648 rows x 6 columns]"
      ]
     },
     "execution_count": 6,
     "metadata": {},
     "output_type": "execute_result"
    }
   ],
   "source": [
    "df"
   ]
  },
  {
   "cell_type": "code",
   "execution_count": 5,
   "metadata": {},
   "outputs": [
    {
     "data": {
      "text/plain": [
       "'North Indian, Biryani, Kebab, Chinese, South Indian, Mughlai, Beverages'"
      ]
     },
     "execution_count": 5,
     "metadata": {},
     "output_type": "execute_result"
    }
   ],
   "source": [
    "df[\"Cousin\"][1]"
   ]
  },
  {
   "cell_type": "code",
   "execution_count": 7,
   "metadata": {},
   "outputs": [
    {
     "name": "stderr",
     "output_type": "stream",
     "text": [
      "C:\\Users\\91940\\AppData\\Local\\Temp\\ipykernel_19156\\4137725763.py:2: SettingWithCopyWarning: \n",
      "A value is trying to be set on a copy of a slice from a DataFrame\n",
      "\n",
      "See the caveats in the documentation: https://pandas.pydata.org/pandas-docs/stable/user_guide/indexing.html#returning-a-view-versus-a-copy\n",
      "  df[\"Cousin\"][i]=(list(df[\"Cousin\"][i].split(\",\")))\n"
     ]
    }
   ],
   "source": [
    "for i in range(len(df[\"Cousin\"])):\n",
    "    df[\"Cousin\"][i]=(list(df[\"Cousin\"][i].split(\",\")))"
   ]
  },
  {
   "cell_type": "code",
   "execution_count": 8,
   "metadata": {},
   "outputs": [
    {
     "data": {
      "text/html": [
       "<div>\n",
       "<style scoped>\n",
       "    .dataframe tbody tr th:only-of-type {\n",
       "        vertical-align: middle;\n",
       "    }\n",
       "\n",
       "    .dataframe tbody tr th {\n",
       "        vertical-align: top;\n",
       "    }\n",
       "\n",
       "    .dataframe thead th {\n",
       "        text-align: right;\n",
       "    }\n",
       "</style>\n",
       "<table border=\"1\" class=\"dataframe\">\n",
       "  <thead>\n",
       "    <tr style=\"text-align: right;\">\n",
       "      <th></th>\n",
       "      <th>ID</th>\n",
       "      <th>Name</th>\n",
       "      <th>Cousin</th>\n",
       "      <th>Cost_for_one</th>\n",
       "      <th>Rating</th>\n",
       "      <th>Restro_links</th>\n",
       "    </tr>\n",
       "  </thead>\n",
       "  <tbody>\n",
       "    <tr>\n",
       "      <th>0</th>\n",
       "      <td>0</td>\n",
       "      <td>Kannur Food Point</td>\n",
       "      <td>[Kerala,  Chinese,  South Indian,  Arabian,  J...</td>\n",
       "      <td>200</td>\n",
       "      <td>3.8</td>\n",
       "      <td>https://www.zomato.com/bangalore/kannur-food-p...</td>\n",
       "    </tr>\n",
       "    <tr>\n",
       "      <th>1</th>\n",
       "      <td>1</td>\n",
       "      <td>Empire Restaurant</td>\n",
       "      <td>[North Indian,  Biryani,  Kebab,  Chinese,  So...</td>\n",
       "      <td>200</td>\n",
       "      <td>4</td>\n",
       "      <td>https://www.zomato.com/bangalore/empire-restau...</td>\n",
       "    </tr>\n",
       "    <tr>\n",
       "      <th>2</th>\n",
       "      <td>2</td>\n",
       "      <td>Falahaar &amp; Kota Kachori</td>\n",
       "      <td>[North Indian,  Rajasthani,  Fast Food,  Mitha...</td>\n",
       "      <td>200</td>\n",
       "      <td>3.9</td>\n",
       "      <td>https://www.zomato.com/bangalore/falahaar-kota...</td>\n",
       "    </tr>\n",
       "    <tr>\n",
       "      <th>3</th>\n",
       "      <td>3</td>\n",
       "      <td>Domino's Pizza</td>\n",
       "      <td>[Pizza,  Fast Food,  Desserts,  Beverages]</td>\n",
       "      <td>200</td>\n",
       "      <td>3.6</td>\n",
       "      <td>https://www.zomato.com/bangalore/dominos-pizza...</td>\n",
       "    </tr>\n",
       "    <tr>\n",
       "      <th>4</th>\n",
       "      <td>4</td>\n",
       "      <td>Sri Srinivas Pork Hotel</td>\n",
       "      <td>[Fast Food]</td>\n",
       "      <td>200</td>\n",
       "      <td>3.3</td>\n",
       "      <td>https://www.zomato.com/bangalore/sri-srinivas-...</td>\n",
       "    </tr>\n",
       "    <tr>\n",
       "      <th>...</th>\n",
       "      <td>...</td>\n",
       "      <td>...</td>\n",
       "      <td>...</td>\n",
       "      <td>...</td>\n",
       "      <td>...</td>\n",
       "      <td>...</td>\n",
       "    </tr>\n",
       "    <tr>\n",
       "      <th>643</th>\n",
       "      <td>643</td>\n",
       "      <td>Hotel New Prashanth Naati Shyli</td>\n",
       "      <td>[Chinese,  North Indian,  South Indian,  Bever...</td>\n",
       "      <td>200</td>\n",
       "      <td>-</td>\n",
       "      <td>https://www.zomato.com/bangalore/hotel-new-pra...</td>\n",
       "    </tr>\n",
       "    <tr>\n",
       "      <th>644</th>\n",
       "      <td>644</td>\n",
       "      <td>Samruddi Nonveg</td>\n",
       "      <td>[South Indian,  Biryani]</td>\n",
       "      <td>200</td>\n",
       "      <td>-</td>\n",
       "      <td>https://www.zomato.com/bangalore/samruddi-nonv...</td>\n",
       "    </tr>\n",
       "    <tr>\n",
       "      <th>645</th>\n",
       "      <td>645</td>\n",
       "      <td>Randhan - A - Bandhan</td>\n",
       "      <td>[Bengali,  Mughlai,  North Indian,  Chinese,  ...</td>\n",
       "      <td>200</td>\n",
       "      <td>3.3</td>\n",
       "      <td>https://www.zomato.com/bangalore/randhan-a-ban...</td>\n",
       "    </tr>\n",
       "    <tr>\n",
       "      <th>646</th>\n",
       "      <td>646</td>\n",
       "      <td>Amudham Biryani</td>\n",
       "      <td>[Biryani,  South Indian]</td>\n",
       "      <td>200</td>\n",
       "      <td>-</td>\n",
       "      <td>https://www.zomato.com/bangalore/amudham-birya...</td>\n",
       "    </tr>\n",
       "    <tr>\n",
       "      <th>647</th>\n",
       "      <td>647</td>\n",
       "      <td>Green Kitchen Palace</td>\n",
       "      <td>[Biryani,  Street Food]</td>\n",
       "      <td>200</td>\n",
       "      <td>-</td>\n",
       "      <td>https://www.zomato.com/bangalore/green-kitchen...</td>\n",
       "    </tr>\n",
       "  </tbody>\n",
       "</table>\n",
       "<p>648 rows × 6 columns</p>\n",
       "</div>"
      ],
      "text/plain": [
       "      ID                             Name  \\\n",
       "0      0                Kannur Food Point   \n",
       "1      1                Empire Restaurant   \n",
       "2      2          Falahaar & Kota Kachori   \n",
       "3      3                   Domino's Pizza   \n",
       "4      4          Sri Srinivas Pork Hotel   \n",
       "..   ...                              ...   \n",
       "643  643  Hotel New Prashanth Naati Shyli   \n",
       "644  644                  Samruddi Nonveg   \n",
       "645  645            Randhan - A - Bandhan   \n",
       "646  646                  Amudham Biryani   \n",
       "647  647             Green Kitchen Palace   \n",
       "\n",
       "                                                Cousin  Cost_for_one Rating  \\\n",
       "0    [Kerala,  Chinese,  South Indian,  Arabian,  J...           200    3.8   \n",
       "1    [North Indian,  Biryani,  Kebab,  Chinese,  So...           200      4   \n",
       "2    [North Indian,  Rajasthani,  Fast Food,  Mitha...           200    3.9   \n",
       "3           [Pizza,  Fast Food,  Desserts,  Beverages]           200    3.6   \n",
       "4                                          [Fast Food]           200    3.3   \n",
       "..                                                 ...           ...    ...   \n",
       "643  [Chinese,  North Indian,  South Indian,  Bever...           200      -   \n",
       "644                           [South Indian,  Biryani]           200      -   \n",
       "645  [Bengali,  Mughlai,  North Indian,  Chinese,  ...           200    3.3   \n",
       "646                           [Biryani,  South Indian]           200      -   \n",
       "647                            [Biryani,  Street Food]           200      -   \n",
       "\n",
       "                                          Restro_links  \n",
       "0    https://www.zomato.com/bangalore/kannur-food-p...  \n",
       "1    https://www.zomato.com/bangalore/empire-restau...  \n",
       "2    https://www.zomato.com/bangalore/falahaar-kota...  \n",
       "3    https://www.zomato.com/bangalore/dominos-pizza...  \n",
       "4    https://www.zomato.com/bangalore/sri-srinivas-...  \n",
       "..                                                 ...  \n",
       "643  https://www.zomato.com/bangalore/hotel-new-pra...  \n",
       "644  https://www.zomato.com/bangalore/samruddi-nonv...  \n",
       "645  https://www.zomato.com/bangalore/randhan-a-ban...  \n",
       "646  https://www.zomato.com/bangalore/amudham-birya...  \n",
       "647  https://www.zomato.com/bangalore/green-kitchen...  \n",
       "\n",
       "[648 rows x 6 columns]"
      ]
     },
     "execution_count": 8,
     "metadata": {},
     "output_type": "execute_result"
    }
   ],
   "source": [
    "df"
   ]
  },
  {
   "cell_type": "code",
   "execution_count": 9,
   "metadata": {},
   "outputs": [],
   "source": [
    "Names=[]\n",
    "for i in range(len(df)):\n",
    "    for j in range(len(df[\"Cousin\"][i])):\n",
    "        Names.append(df[\"Name\"][i])\n"
   ]
  },
  {
   "cell_type": "code",
   "execution_count": 10,
   "metadata": {},
   "outputs": [
    {
     "data": {
      "text/plain": [
       "2472"
      ]
     },
     "execution_count": 10,
     "metadata": {},
     "output_type": "execute_result"
    }
   ],
   "source": [
    "len(Names)"
   ]
  },
  {
   "cell_type": "code",
   "execution_count": 11,
   "metadata": {},
   "outputs": [],
   "source": [
    "Cousins=[]\n",
    "for i in range(len(df)):\n",
    "    for j in range(len(df[\"Cousin\"][i])):\n",
    "        Cousins.append(df[\"Cousin\"][i][j])"
   ]
  },
  {
   "cell_type": "code",
   "execution_count": 12,
   "metadata": {},
   "outputs": [
    {
     "data": {
      "text/plain": [
       "2472"
      ]
     },
     "execution_count": 12,
     "metadata": {},
     "output_type": "execute_result"
    }
   ],
   "source": [
    "len(Cousins)\n"
   ]
  },
  {
   "cell_type": "code",
   "execution_count": 13,
   "metadata": {},
   "outputs": [],
   "source": [
    "df2=pd.DataFrame()\n",
    "df2.insert(0,\"Name\",Names)"
   ]
  },
  {
   "cell_type": "code",
   "execution_count": 14,
   "metadata": {},
   "outputs": [],
   "source": [
    "df2.insert(1,\"Cousins\",Cousins)"
   ]
  },
  {
   "cell_type": "code",
   "execution_count": 15,
   "metadata": {},
   "outputs": [
    {
     "data": {
      "text/html": [
       "<div>\n",
       "<style scoped>\n",
       "    .dataframe tbody tr th:only-of-type {\n",
       "        vertical-align: middle;\n",
       "    }\n",
       "\n",
       "    .dataframe tbody tr th {\n",
       "        vertical-align: top;\n",
       "    }\n",
       "\n",
       "    .dataframe thead th {\n",
       "        text-align: right;\n",
       "    }\n",
       "</style>\n",
       "<table border=\"1\" class=\"dataframe\">\n",
       "  <thead>\n",
       "    <tr style=\"text-align: right;\">\n",
       "      <th></th>\n",
       "      <th>Name</th>\n",
       "      <th>Cousins</th>\n",
       "    </tr>\n",
       "  </thead>\n",
       "  <tbody>\n",
       "    <tr>\n",
       "      <th>0</th>\n",
       "      <td>Kannur Food Point</td>\n",
       "      <td>Kerala</td>\n",
       "    </tr>\n",
       "    <tr>\n",
       "      <th>1</th>\n",
       "      <td>Kannur Food Point</td>\n",
       "      <td>Chinese</td>\n",
       "    </tr>\n",
       "    <tr>\n",
       "      <th>2</th>\n",
       "      <td>Kannur Food Point</td>\n",
       "      <td>South Indian</td>\n",
       "    </tr>\n",
       "    <tr>\n",
       "      <th>3</th>\n",
       "      <td>Kannur Food Point</td>\n",
       "      <td>Arabian</td>\n",
       "    </tr>\n",
       "    <tr>\n",
       "      <th>4</th>\n",
       "      <td>Kannur Food Point</td>\n",
       "      <td>Juices</td>\n",
       "    </tr>\n",
       "    <tr>\n",
       "      <th>5</th>\n",
       "      <td>Kannur Food Point</td>\n",
       "      <td>Beverages</td>\n",
       "    </tr>\n",
       "    <tr>\n",
       "      <th>6</th>\n",
       "      <td>Kannur Food Point</td>\n",
       "      <td>Shake</td>\n",
       "    </tr>\n",
       "    <tr>\n",
       "      <th>7</th>\n",
       "      <td>Empire Restaurant</td>\n",
       "      <td>North Indian</td>\n",
       "    </tr>\n",
       "  </tbody>\n",
       "</table>\n",
       "</div>"
      ],
      "text/plain": [
       "                Name        Cousins\n",
       "0  Kannur Food Point         Kerala\n",
       "1  Kannur Food Point        Chinese\n",
       "2  Kannur Food Point   South Indian\n",
       "3  Kannur Food Point        Arabian\n",
       "4  Kannur Food Point         Juices\n",
       "5  Kannur Food Point      Beverages\n",
       "6  Kannur Food Point          Shake\n",
       "7  Empire Restaurant   North Indian"
      ]
     },
     "execution_count": 15,
     "metadata": {},
     "output_type": "execute_result"
    }
   ],
   "source": [
    "df2.head(8)"
   ]
  },
  {
   "cell_type": "code",
   "execution_count": 16,
   "metadata": {},
   "outputs": [
    {
     "data": {
      "text/html": [
       "<div>\n",
       "<style scoped>\n",
       "    .dataframe tbody tr th:only-of-type {\n",
       "        vertical-align: middle;\n",
       "    }\n",
       "\n",
       "    .dataframe tbody tr th {\n",
       "        vertical-align: top;\n",
       "    }\n",
       "\n",
       "    .dataframe thead th {\n",
       "        text-align: right;\n",
       "    }\n",
       "</style>\n",
       "<table border=\"1\" class=\"dataframe\">\n",
       "  <thead>\n",
       "    <tr style=\"text-align: right;\">\n",
       "      <th></th>\n",
       "      <th>ID</th>\n",
       "      <th>Name</th>\n",
       "      <th>Cousin</th>\n",
       "      <th>Cost_for_one</th>\n",
       "      <th>Rating</th>\n",
       "      <th>Restro_links</th>\n",
       "    </tr>\n",
       "  </thead>\n",
       "  <tbody>\n",
       "    <tr>\n",
       "      <th>0</th>\n",
       "      <td>0</td>\n",
       "      <td>Kannur Food Point</td>\n",
       "      <td>[Kerala,  Chinese,  South Indian,  Arabian,  J...</td>\n",
       "      <td>200</td>\n",
       "      <td>3.8</td>\n",
       "      <td>https://www.zomato.com/bangalore/kannur-food-p...</td>\n",
       "    </tr>\n",
       "    <tr>\n",
       "      <th>1</th>\n",
       "      <td>1</td>\n",
       "      <td>Empire Restaurant</td>\n",
       "      <td>[North Indian,  Biryani,  Kebab,  Chinese,  So...</td>\n",
       "      <td>200</td>\n",
       "      <td>4</td>\n",
       "      <td>https://www.zomato.com/bangalore/empire-restau...</td>\n",
       "    </tr>\n",
       "    <tr>\n",
       "      <th>2</th>\n",
       "      <td>2</td>\n",
       "      <td>Falahaar &amp; Kota Kachori</td>\n",
       "      <td>[North Indian,  Rajasthani,  Fast Food,  Mitha...</td>\n",
       "      <td>200</td>\n",
       "      <td>3.9</td>\n",
       "      <td>https://www.zomato.com/bangalore/falahaar-kota...</td>\n",
       "    </tr>\n",
       "    <tr>\n",
       "      <th>3</th>\n",
       "      <td>3</td>\n",
       "      <td>Domino's Pizza</td>\n",
       "      <td>[Pizza,  Fast Food,  Desserts,  Beverages]</td>\n",
       "      <td>200</td>\n",
       "      <td>3.6</td>\n",
       "      <td>https://www.zomato.com/bangalore/dominos-pizza...</td>\n",
       "    </tr>\n",
       "    <tr>\n",
       "      <th>4</th>\n",
       "      <td>4</td>\n",
       "      <td>Sri Srinivas Pork Hotel</td>\n",
       "      <td>[Fast Food]</td>\n",
       "      <td>200</td>\n",
       "      <td>3.3</td>\n",
       "      <td>https://www.zomato.com/bangalore/sri-srinivas-...</td>\n",
       "    </tr>\n",
       "    <tr>\n",
       "      <th>...</th>\n",
       "      <td>...</td>\n",
       "      <td>...</td>\n",
       "      <td>...</td>\n",
       "      <td>...</td>\n",
       "      <td>...</td>\n",
       "      <td>...</td>\n",
       "    </tr>\n",
       "    <tr>\n",
       "      <th>643</th>\n",
       "      <td>643</td>\n",
       "      <td>Hotel New Prashanth Naati Shyli</td>\n",
       "      <td>[Chinese,  North Indian,  South Indian,  Bever...</td>\n",
       "      <td>200</td>\n",
       "      <td>-</td>\n",
       "      <td>https://www.zomato.com/bangalore/hotel-new-pra...</td>\n",
       "    </tr>\n",
       "    <tr>\n",
       "      <th>644</th>\n",
       "      <td>644</td>\n",
       "      <td>Samruddi Nonveg</td>\n",
       "      <td>[South Indian,  Biryani]</td>\n",
       "      <td>200</td>\n",
       "      <td>-</td>\n",
       "      <td>https://www.zomato.com/bangalore/samruddi-nonv...</td>\n",
       "    </tr>\n",
       "    <tr>\n",
       "      <th>645</th>\n",
       "      <td>645</td>\n",
       "      <td>Randhan - A - Bandhan</td>\n",
       "      <td>[Bengali,  Mughlai,  North Indian,  Chinese,  ...</td>\n",
       "      <td>200</td>\n",
       "      <td>3.3</td>\n",
       "      <td>https://www.zomato.com/bangalore/randhan-a-ban...</td>\n",
       "    </tr>\n",
       "    <tr>\n",
       "      <th>646</th>\n",
       "      <td>646</td>\n",
       "      <td>Amudham Biryani</td>\n",
       "      <td>[Biryani,  South Indian]</td>\n",
       "      <td>200</td>\n",
       "      <td>-</td>\n",
       "      <td>https://www.zomato.com/bangalore/amudham-birya...</td>\n",
       "    </tr>\n",
       "    <tr>\n",
       "      <th>647</th>\n",
       "      <td>647</td>\n",
       "      <td>Green Kitchen Palace</td>\n",
       "      <td>[Biryani,  Street Food]</td>\n",
       "      <td>200</td>\n",
       "      <td>-</td>\n",
       "      <td>https://www.zomato.com/bangalore/green-kitchen...</td>\n",
       "    </tr>\n",
       "  </tbody>\n",
       "</table>\n",
       "<p>648 rows × 6 columns</p>\n",
       "</div>"
      ],
      "text/plain": [
       "      ID                             Name  \\\n",
       "0      0                Kannur Food Point   \n",
       "1      1                Empire Restaurant   \n",
       "2      2          Falahaar & Kota Kachori   \n",
       "3      3                   Domino's Pizza   \n",
       "4      4          Sri Srinivas Pork Hotel   \n",
       "..   ...                              ...   \n",
       "643  643  Hotel New Prashanth Naati Shyli   \n",
       "644  644                  Samruddi Nonveg   \n",
       "645  645            Randhan - A - Bandhan   \n",
       "646  646                  Amudham Biryani   \n",
       "647  647             Green Kitchen Palace   \n",
       "\n",
       "                                                Cousin  Cost_for_one Rating  \\\n",
       "0    [Kerala,  Chinese,  South Indian,  Arabian,  J...           200    3.8   \n",
       "1    [North Indian,  Biryani,  Kebab,  Chinese,  So...           200      4   \n",
       "2    [North Indian,  Rajasthani,  Fast Food,  Mitha...           200    3.9   \n",
       "3           [Pizza,  Fast Food,  Desserts,  Beverages]           200    3.6   \n",
       "4                                          [Fast Food]           200    3.3   \n",
       "..                                                 ...           ...    ...   \n",
       "643  [Chinese,  North Indian,  South Indian,  Bever...           200      -   \n",
       "644                           [South Indian,  Biryani]           200      -   \n",
       "645  [Bengali,  Mughlai,  North Indian,  Chinese,  ...           200    3.3   \n",
       "646                           [Biryani,  South Indian]           200      -   \n",
       "647                            [Biryani,  Street Food]           200      -   \n",
       "\n",
       "                                          Restro_links  \n",
       "0    https://www.zomato.com/bangalore/kannur-food-p...  \n",
       "1    https://www.zomato.com/bangalore/empire-restau...  \n",
       "2    https://www.zomato.com/bangalore/falahaar-kota...  \n",
       "3    https://www.zomato.com/bangalore/dominos-pizza...  \n",
       "4    https://www.zomato.com/bangalore/sri-srinivas-...  \n",
       "..                                                 ...  \n",
       "643  https://www.zomato.com/bangalore/hotel-new-pra...  \n",
       "644  https://www.zomato.com/bangalore/samruddi-nonv...  \n",
       "645  https://www.zomato.com/bangalore/randhan-a-ban...  \n",
       "646  https://www.zomato.com/bangalore/amudham-birya...  \n",
       "647  https://www.zomato.com/bangalore/green-kitchen...  \n",
       "\n",
       "[648 rows x 6 columns]"
      ]
     },
     "execution_count": 16,
     "metadata": {},
     "output_type": "execute_result"
    }
   ],
   "source": [
    "df"
   ]
  },
  {
   "cell_type": "code",
   "execution_count": 17,
   "metadata": {},
   "outputs": [
    {
     "data": {
      "text/html": [
       "<div>\n",
       "<style scoped>\n",
       "    .dataframe tbody tr th:only-of-type {\n",
       "        vertical-align: middle;\n",
       "    }\n",
       "\n",
       "    .dataframe tbody tr th {\n",
       "        vertical-align: top;\n",
       "    }\n",
       "\n",
       "    .dataframe thead th {\n",
       "        text-align: right;\n",
       "    }\n",
       "</style>\n",
       "<table border=\"1\" class=\"dataframe\">\n",
       "  <thead>\n",
       "    <tr style=\"text-align: right;\">\n",
       "      <th></th>\n",
       "      <th>Name</th>\n",
       "      <th>Cousins</th>\n",
       "    </tr>\n",
       "  </thead>\n",
       "  <tbody>\n",
       "    <tr>\n",
       "      <th>0</th>\n",
       "      <td>Kannur Food Point</td>\n",
       "      <td>Kerala</td>\n",
       "    </tr>\n",
       "    <tr>\n",
       "      <th>1</th>\n",
       "      <td>Kannur Food Point</td>\n",
       "      <td>Chinese</td>\n",
       "    </tr>\n",
       "    <tr>\n",
       "      <th>2</th>\n",
       "      <td>Kannur Food Point</td>\n",
       "      <td>South Indian</td>\n",
       "    </tr>\n",
       "    <tr>\n",
       "      <th>3</th>\n",
       "      <td>Kannur Food Point</td>\n",
       "      <td>Arabian</td>\n",
       "    </tr>\n",
       "    <tr>\n",
       "      <th>4</th>\n",
       "      <td>Kannur Food Point</td>\n",
       "      <td>Juices</td>\n",
       "    </tr>\n",
       "    <tr>\n",
       "      <th>...</th>\n",
       "      <td>...</td>\n",
       "      <td>...</td>\n",
       "    </tr>\n",
       "    <tr>\n",
       "      <th>2467</th>\n",
       "      <td>Randhan - A - Bandhan</td>\n",
       "      <td>Desserts</td>\n",
       "    </tr>\n",
       "    <tr>\n",
       "      <th>2468</th>\n",
       "      <td>Amudham Biryani</td>\n",
       "      <td>Biryani</td>\n",
       "    </tr>\n",
       "    <tr>\n",
       "      <th>2469</th>\n",
       "      <td>Amudham Biryani</td>\n",
       "      <td>South Indian</td>\n",
       "    </tr>\n",
       "    <tr>\n",
       "      <th>2470</th>\n",
       "      <td>Green Kitchen Palace</td>\n",
       "      <td>Biryani</td>\n",
       "    </tr>\n",
       "    <tr>\n",
       "      <th>2471</th>\n",
       "      <td>Green Kitchen Palace</td>\n",
       "      <td>Street Food</td>\n",
       "    </tr>\n",
       "  </tbody>\n",
       "</table>\n",
       "<p>2472 rows × 2 columns</p>\n",
       "</div>"
      ],
      "text/plain": [
       "                       Name        Cousins\n",
       "0         Kannur Food Point         Kerala\n",
       "1         Kannur Food Point        Chinese\n",
       "2         Kannur Food Point   South Indian\n",
       "3         Kannur Food Point        Arabian\n",
       "4         Kannur Food Point         Juices\n",
       "...                     ...            ...\n",
       "2467  Randhan - A - Bandhan       Desserts\n",
       "2468        Amudham Biryani        Biryani\n",
       "2469        Amudham Biryani   South Indian\n",
       "2470   Green Kitchen Palace        Biryani\n",
       "2471   Green Kitchen Palace    Street Food\n",
       "\n",
       "[2472 rows x 2 columns]"
      ]
     },
     "execution_count": 17,
     "metadata": {},
     "output_type": "execute_result"
    }
   ],
   "source": [
    "df2"
   ]
  },
  {
   "cell_type": "code",
   "execution_count": 18,
   "metadata": {},
   "outputs": [],
   "source": [
    "df3=df.merge(df2,how='inner',on=\"Name\")"
   ]
  },
  {
   "cell_type": "code",
   "execution_count": 21,
   "metadata": {},
   "outputs": [],
   "source": [
    "df3.columns=['ID', 'Name', 'Cuisine', 'Cost_for_one', 'Rating', 'Restro_links',\n",
    "       'Cuisines']"
   ]
  },
  {
   "cell_type": "code",
   "execution_count": 25,
   "metadata": {},
   "outputs": [],
   "source": [
    "ll=[\"Cuisine\",\"Restro_links\"]"
   ]
  },
  {
   "cell_type": "code",
   "execution_count": 27,
   "metadata": {},
   "outputs": [],
   "source": [
    "df3.drop(ll,axis=1,inplace=True)"
   ]
  },
  {
   "cell_type": "code",
   "execution_count": 28,
   "metadata": {},
   "outputs": [
    {
     "name": "stdout",
     "output_type": "stream",
     "text": [
      "<class 'pandas.core.frame.DataFrame'>\n",
      "Int64Index: 2606 entries, 0 to 2605\n",
      "Data columns (total 5 columns):\n",
      " #   Column        Non-Null Count  Dtype \n",
      "---  ------        --------------  ----- \n",
      " 0   ID            2606 non-null   int64 \n",
      " 1   Name          2606 non-null   object\n",
      " 2   Cost_for_one  2606 non-null   int64 \n",
      " 3   Rating        2606 non-null   object\n",
      " 4   Cuisines      2606 non-null   object\n",
      "dtypes: int64(2), object(3)\n",
      "memory usage: 122.2+ KB\n"
     ]
    }
   ],
   "source": [
    "df3.info()"
   ]
  },
  {
   "cell_type": "code",
   "execution_count": null,
   "metadata": {},
   "outputs": [],
   "source": []
  },
  {
   "cell_type": "code",
   "execution_count": 48,
   "metadata": {},
   "outputs": [],
   "source": [
    "rat=[]\n",
    "for i in df3[\"Ratings\"] :\n",
    "    if i ==\"-\" or i==\"New\":\n",
    "        rat.append(None)\n",
    "    else:\n",
    "        rat.append(i)"
   ]
  },
  {
   "cell_type": "code",
   "execution_count": 49,
   "metadata": {},
   "outputs": [
    {
     "data": {
      "text/plain": [
       "2606"
      ]
     },
     "execution_count": 49,
     "metadata": {},
     "output_type": "execute_result"
    }
   ],
   "source": [
    "len(rat)"
   ]
  },
  {
   "cell_type": "code",
   "execution_count": 50,
   "metadata": {},
   "outputs": [],
   "source": [
    "df3.insert(5,\"Rating\",rat)"
   ]
  },
  {
   "cell_type": "code",
   "execution_count": 53,
   "metadata": {},
   "outputs": [],
   "source": [
    "df3[\"Rating\"]=df3[\"Rating\"].astype(float)"
   ]
  },
  {
   "cell_type": "code",
   "execution_count": 54,
   "metadata": {},
   "outputs": [],
   "source": [
    "df3.drop(\"Ratings\",axis=1,inplace=True)"
   ]
  },
  {
   "cell_type": "code",
   "execution_count": 56,
   "metadata": {},
   "outputs": [
    {
     "name": "stdout",
     "output_type": "stream",
     "text": [
      "<class 'pandas.core.frame.DataFrame'>\n",
      "Int64Index: 2606 entries, 0 to 2605\n",
      "Data columns (total 5 columns):\n",
      " #   Column        Non-Null Count  Dtype  \n",
      "---  ------        --------------  -----  \n",
      " 0   ID            2606 non-null   int64  \n",
      " 1   Name          2606 non-null   object \n",
      " 2   Cost_for_one  2606 non-null   int64  \n",
      " 3   Cuisines      2606 non-null   object \n",
      " 4   Rating        2500 non-null   float64\n",
      "dtypes: float64(1), int64(2), object(2)\n",
      "memory usage: 122.2+ KB\n"
     ]
    }
   ],
   "source": [
    "df3.info()"
   ]
  },
  {
   "cell_type": "code",
   "execution_count": 45,
   "metadata": {},
   "outputs": [
    {
     "data": {
      "text/html": [
       "<div>\n",
       "<style scoped>\n",
       "    .dataframe tbody tr th:only-of-type {\n",
       "        vertical-align: middle;\n",
       "    }\n",
       "\n",
       "    .dataframe tbody tr th {\n",
       "        vertical-align: top;\n",
       "    }\n",
       "\n",
       "    .dataframe thead th {\n",
       "        text-align: right;\n",
       "    }\n",
       "</style>\n",
       "<table border=\"1\" class=\"dataframe\">\n",
       "  <thead>\n",
       "    <tr style=\"text-align: right;\">\n",
       "      <th></th>\n",
       "      <th>ID</th>\n",
       "      <th>Name</th>\n",
       "      <th>Cost_for_one</th>\n",
       "      <th>Cuisines</th>\n",
       "      <th>Ratings</th>\n",
       "    </tr>\n",
       "  </thead>\n",
       "  <tbody>\n",
       "    <tr>\n",
       "      <th>829</th>\n",
       "      <td>181</td>\n",
       "      <td>Donne Biryani Palace</td>\n",
       "      <td>150</td>\n",
       "      <td>Biryani</td>\n",
       "      <td>New</td>\n",
       "    </tr>\n",
       "    <tr>\n",
       "      <th>830</th>\n",
       "      <td>181</td>\n",
       "      <td>Donne Biryani Palace</td>\n",
       "      <td>150</td>\n",
       "      <td>South Indian</td>\n",
       "      <td>New</td>\n",
       "    </tr>\n",
       "    <tr>\n",
       "      <th>831</th>\n",
       "      <td>181</td>\n",
       "      <td>Donne Biryani Palace</td>\n",
       "      <td>150</td>\n",
       "      <td>North Indian</td>\n",
       "      <td>New</td>\n",
       "    </tr>\n",
       "    <tr>\n",
       "      <th>832</th>\n",
       "      <td>181</td>\n",
       "      <td>Donne Biryani Palace</td>\n",
       "      <td>150</td>\n",
       "      <td>Chinese</td>\n",
       "      <td>New</td>\n",
       "    </tr>\n",
       "    <tr>\n",
       "      <th>953</th>\n",
       "      <td>205</td>\n",
       "      <td>Bombay Kulfi</td>\n",
       "      <td>150</td>\n",
       "      <td>Desserts</td>\n",
       "      <td>New</td>\n",
       "    </tr>\n",
       "    <tr>\n",
       "      <th>2084</th>\n",
       "      <td>491</td>\n",
       "      <td>Narmada Chain of Restaurants</td>\n",
       "      <td>250</td>\n",
       "      <td>Andhra</td>\n",
       "      <td>New</td>\n",
       "    </tr>\n",
       "    <tr>\n",
       "      <th>2085</th>\n",
       "      <td>491</td>\n",
       "      <td>Narmada Chain of Restaurants</td>\n",
       "      <td>250</td>\n",
       "      <td>Hyderabadi</td>\n",
       "      <td>New</td>\n",
       "    </tr>\n",
       "    <tr>\n",
       "      <th>2086</th>\n",
       "      <td>491</td>\n",
       "      <td>Narmada Chain of Restaurants</td>\n",
       "      <td>250</td>\n",
       "      <td>Biryani</td>\n",
       "      <td>New</td>\n",
       "    </tr>\n",
       "    <tr>\n",
       "      <th>2087</th>\n",
       "      <td>491</td>\n",
       "      <td>Narmada Chain of Restaurants</td>\n",
       "      <td>250</td>\n",
       "      <td>North Indian</td>\n",
       "      <td>New</td>\n",
       "    </tr>\n",
       "    <tr>\n",
       "      <th>2088</th>\n",
       "      <td>491</td>\n",
       "      <td>Narmada Chain of Restaurants</td>\n",
       "      <td>250</td>\n",
       "      <td>Chinese</td>\n",
       "      <td>New</td>\n",
       "    </tr>\n",
       "    <tr>\n",
       "      <th>2089</th>\n",
       "      <td>491</td>\n",
       "      <td>Narmada Chain of Restaurants</td>\n",
       "      <td>250</td>\n",
       "      <td>Beverages</td>\n",
       "      <td>New</td>\n",
       "    </tr>\n",
       "  </tbody>\n",
       "</table>\n",
       "</div>"
      ],
      "text/plain": [
       "       ID                          Name  Cost_for_one       Cuisines Ratings\n",
       "829   181          Donne Biryani Palace           150        Biryani     New\n",
       "830   181          Donne Biryani Palace           150   South Indian     New\n",
       "831   181          Donne Biryani Palace           150   North Indian     New\n",
       "832   181          Donne Biryani Palace           150        Chinese     New\n",
       "953   205                  Bombay Kulfi           150       Desserts     New\n",
       "2084  491  Narmada Chain of Restaurants           250         Andhra     New\n",
       "2085  491  Narmada Chain of Restaurants           250     Hyderabadi     New\n",
       "2086  491  Narmada Chain of Restaurants           250        Biryani     New\n",
       "2087  491  Narmada Chain of Restaurants           250   North Indian     New\n",
       "2088  491  Narmada Chain of Restaurants           250        Chinese     New\n",
       "2089  491  Narmada Chain of Restaurants           250      Beverages     New"
      ]
     },
     "execution_count": 45,
     "metadata": {},
     "output_type": "execute_result"
    }
   ],
   "source": [
    "df3[df3[\"Ratings\"]==\"New\"]"
   ]
  },
  {
   "cell_type": "code",
   "execution_count": 57,
   "metadata": {},
   "outputs": [],
   "source": [
    "df3.to_csv(r\"C:\\Users\\91940\\Downloads\\table2_cleandata1.csv\")"
   ]
  },
  {
   "cell_type": "code",
   "execution_count": 58,
   "metadata": {},
   "outputs": [],
   "source": [
    "tab=pd.read_csv(r\"C:\\Users\\91940\\Downloads\\table1.csv\")"
   ]
  },
  {
   "cell_type": "code",
   "execution_count": 59,
   "metadata": {},
   "outputs": [
    {
     "data": {
      "text/html": [
       "<div>\n",
       "<style scoped>\n",
       "    .dataframe tbody tr th:only-of-type {\n",
       "        vertical-align: middle;\n",
       "    }\n",
       "\n",
       "    .dataframe tbody tr th {\n",
       "        vertical-align: top;\n",
       "    }\n",
       "\n",
       "    .dataframe thead th {\n",
       "        text-align: right;\n",
       "    }\n",
       "</style>\n",
       "<table border=\"1\" class=\"dataframe\">\n",
       "  <thead>\n",
       "    <tr style=\"text-align: right;\">\n",
       "      <th></th>\n",
       "      <th>ID</th>\n",
       "      <th>Name</th>\n",
       "      <th>Location</th>\n",
       "      <th>Dining_Review</th>\n",
       "      <th>Delivery_review</th>\n",
       "    </tr>\n",
       "  </thead>\n",
       "  <tbody>\n",
       "    <tr>\n",
       "      <th>0</th>\n",
       "      <td>0</td>\n",
       "      <td>Kannur Food Point</td>\n",
       "      <td>BTM</td>\n",
       "      <td>557</td>\n",
       "      <td>48.3K</td>\n",
       "    </tr>\n",
       "    <tr>\n",
       "      <th>1</th>\n",
       "      <td>1</td>\n",
       "      <td>Empire Restaurant</td>\n",
       "      <td>Church Street</td>\n",
       "      <td>4,501</td>\n",
       "      <td>14.3K</td>\n",
       "    </tr>\n",
       "    <tr>\n",
       "      <th>2</th>\n",
       "      <td>2</td>\n",
       "      <td>Falahaar &amp; Kota Kachori</td>\n",
       "      <td>Koramangala 7th Block</td>\n",
       "      <td>3,671</td>\n",
       "      <td>80K</td>\n",
       "    </tr>\n",
       "    <tr>\n",
       "      <th>3</th>\n",
       "      <td>3</td>\n",
       "      <td>Domino's Pizza</td>\n",
       "      <td>MG Road</td>\n",
       "      <td>83</td>\n",
       "      <td>1966</td>\n",
       "    </tr>\n",
       "    <tr>\n",
       "      <th>4</th>\n",
       "      <td>4</td>\n",
       "      <td>Sri Srinivas Pork Hotel</td>\n",
       "      <td>Ejipura</td>\n",
       "      <td>41</td>\n",
       "      <td>2384</td>\n",
       "    </tr>\n",
       "    <tr>\n",
       "      <th>...</th>\n",
       "      <td>...</td>\n",
       "      <td>...</td>\n",
       "      <td>...</td>\n",
       "      <td>...</td>\n",
       "      <td>...</td>\n",
       "    </tr>\n",
       "    <tr>\n",
       "      <th>643</th>\n",
       "      <td>643</td>\n",
       "      <td>Hotel New Prashanth Naati Shyli</td>\n",
       "      <td>Majestic</td>\n",
       "      <td>0</td>\n",
       "      <td>18</td>\n",
       "    </tr>\n",
       "    <tr>\n",
       "      <th>644</th>\n",
       "      <td>644</td>\n",
       "      <td>Samruddi Nonveg</td>\n",
       "      <td>City Market</td>\n",
       "      <td>0</td>\n",
       "      <td>2</td>\n",
       "    </tr>\n",
       "    <tr>\n",
       "      <th>645</th>\n",
       "      <td>645</td>\n",
       "      <td>Randhan - A - Bandhan</td>\n",
       "      <td>Wilson Garden</td>\n",
       "      <td>0</td>\n",
       "      <td>366</td>\n",
       "    </tr>\n",
       "    <tr>\n",
       "      <th>646</th>\n",
       "      <td>646</td>\n",
       "      <td>Amudham Biryani</td>\n",
       "      <td>Wilson Garden</td>\n",
       "      <td>0</td>\n",
       "      <td>0</td>\n",
       "    </tr>\n",
       "    <tr>\n",
       "      <th>647</th>\n",
       "      <td>647</td>\n",
       "      <td>Green Kitchen Palace</td>\n",
       "      <td>City Market</td>\n",
       "      <td>0</td>\n",
       "      <td>4</td>\n",
       "    </tr>\n",
       "  </tbody>\n",
       "</table>\n",
       "<p>648 rows × 5 columns</p>\n",
       "</div>"
      ],
      "text/plain": [
       "      ID                             Name               Location  \\\n",
       "0      0                Kannur Food Point                    BTM   \n",
       "1      1                Empire Restaurant          Church Street   \n",
       "2      2          Falahaar & Kota Kachori  Koramangala 7th Block   \n",
       "3      3                   Domino's Pizza                MG Road   \n",
       "4      4          Sri Srinivas Pork Hotel                Ejipura   \n",
       "..   ...                              ...                    ...   \n",
       "643  643  Hotel New Prashanth Naati Shyli               Majestic   \n",
       "644  644                  Samruddi Nonveg            City Market   \n",
       "645  645            Randhan - A - Bandhan          Wilson Garden   \n",
       "646  646                  Amudham Biryani          Wilson Garden   \n",
       "647  647             Green Kitchen Palace            City Market   \n",
       "\n",
       "    Dining_Review Delivery_review  \n",
       "0             557           48.3K  \n",
       "1           4,501           14.3K  \n",
       "2           3,671             80K  \n",
       "3              83            1966  \n",
       "4              41            2384  \n",
       "..            ...             ...  \n",
       "643             0              18  \n",
       "644             0               2  \n",
       "645             0             366  \n",
       "646             0               0  \n",
       "647             0               4  \n",
       "\n",
       "[648 rows x 5 columns]"
      ]
     },
     "execution_count": 59,
     "metadata": {},
     "output_type": "execute_result"
    }
   ],
   "source": [
    "tab"
   ]
  },
  {
   "cell_type": "code",
   "execution_count": 60,
   "metadata": {},
   "outputs": [],
   "source": [
    "dd=[]\n",
    "for i in tab[\"Delivery_review\"]:\n",
    "    if \"K\" in i:\n",
    "        if \".\" in i:\n",
    "            dd.append(i.replace(\"K\",\"00\")) \n",
    "        else:\n",
    "            dd.append(i.replace(\"K\",\"000\"))\n",
    "    else:\n",
    "        dd.append(i) "
   ]
  },
  {
   "cell_type": "code",
   "execution_count": 61,
   "metadata": {},
   "outputs": [
    {
     "data": {
      "text/plain": [
       "648"
      ]
     },
     "execution_count": 61,
     "metadata": {},
     "output_type": "execute_result"
    }
   ],
   "source": [
    "len(dd)"
   ]
  },
  {
   "cell_type": "code",
   "execution_count": 62,
   "metadata": {},
   "outputs": [
    {
     "data": {
      "text/plain": [
       "648"
      ]
     },
     "execution_count": 62,
     "metadata": {},
     "output_type": "execute_result"
    }
   ],
   "source": [
    "len(tab)"
   ]
  },
  {
   "cell_type": "code",
   "execution_count": 65,
   "metadata": {},
   "outputs": [],
   "source": [
    "#dd"
   ]
  },
  {
   "cell_type": "code",
   "execution_count": 66,
   "metadata": {},
   "outputs": [],
   "source": [
    "dd=pd.DataFrame(dd)"
   ]
  },
  {
   "cell_type": "code",
   "execution_count": 67,
   "metadata": {},
   "outputs": [
    {
     "name": "stderr",
     "output_type": "stream",
     "text": [
      "C:\\Users\\91940\\AppData\\Local\\Temp\\ipykernel_19156\\4274296457.py:1: FutureWarning: The default value of regex will change from True to False in a future version. In addition, single character regular expressions will *not* be treated as literal strings when regex=True.\n",
      "  dd[0]=dd[0].str.replace(\".\",\"\")\n"
     ]
    }
   ],
   "source": [
    "dd[0]=dd[0].str.replace(\".\",\"\")"
   ]
  },
  {
   "cell_type": "code",
   "execution_count": 68,
   "metadata": {},
   "outputs": [],
   "source": [
    "Del=[]\n",
    "for i in dd[0]:\n",
    "    Del.append(i)\n"
   ]
  },
  {
   "cell_type": "code",
   "execution_count": 69,
   "metadata": {},
   "outputs": [],
   "source": [
    "tab.insert(5,\"Delivery_Reviews\",Del)"
   ]
  },
  {
   "cell_type": "code",
   "execution_count": 70,
   "metadata": {},
   "outputs": [],
   "source": [
    "tab.drop(\"Delivery_review\",axis=1,inplace=True)"
   ]
  },
  {
   "cell_type": "code",
   "execution_count": 72,
   "metadata": {},
   "outputs": [
    {
     "name": "stdout",
     "output_type": "stream",
     "text": [
      "<class 'pandas.core.frame.DataFrame'>\n",
      "RangeIndex: 648 entries, 0 to 647\n",
      "Data columns (total 5 columns):\n",
      " #   Column            Non-Null Count  Dtype \n",
      "---  ------            --------------  ----- \n",
      " 0   ID                648 non-null    int64 \n",
      " 1   Name              648 non-null    object\n",
      " 2   Location          648 non-null    object\n",
      " 3   Dining_Review     648 non-null    object\n",
      " 4   Delivery_Reviews  648 non-null    object\n",
      "dtypes: int64(1), object(4)\n",
      "memory usage: 25.4+ KB\n"
     ]
    }
   ],
   "source": [
    "tab.info()"
   ]
  },
  {
   "cell_type": "code",
   "execution_count": 76,
   "metadata": {},
   "outputs": [],
   "source": [
    "tab[\"Dining_Review\"]=tab[\"Dining_Review\"].str.replace(\",\",\"\")"
   ]
  },
  {
   "cell_type": "code",
   "execution_count": 77,
   "metadata": {},
   "outputs": [
    {
     "ename": "ValueError",
     "evalue": "could not convert string to float: '12.8K'",
     "output_type": "error",
     "traceback": [
      "\u001b[1;31m---------------------------------------------------------------------------\u001b[0m",
      "\u001b[1;31mValueError\u001b[0m                                Traceback (most recent call last)",
      "\u001b[1;32mc:\\Users\\91940\\Documents\\All_python\\MlProject\\data_cleaning.ipynb Cell 43\u001b[0m in \u001b[0;36m<cell line: 1>\u001b[1;34m()\u001b[0m\n\u001b[1;32m----> <a href='vscode-notebook-cell:/c%3A/Users/91940/Documents/All_python/MlProject/data_cleaning.ipynb#Y132sZmlsZQ%3D%3D?line=0'>1</a>\u001b[0m tab[\u001b[39m\"\u001b[39;49m\u001b[39mDining_Review\u001b[39;49m\u001b[39m\"\u001b[39;49m]\u001b[39m.\u001b[39;49mastype(\u001b[39mfloat\u001b[39;49m)\n",
      "File \u001b[1;32mc:\\Users\\91940\\anaconda3\\lib\\site-packages\\pandas\\core\\generic.py:5912\u001b[0m, in \u001b[0;36mNDFrame.astype\u001b[1;34m(self, dtype, copy, errors)\u001b[0m\n\u001b[0;32m   5905\u001b[0m     results \u001b[39m=\u001b[39m [\n\u001b[0;32m   5906\u001b[0m         \u001b[39mself\u001b[39m\u001b[39m.\u001b[39miloc[:, i]\u001b[39m.\u001b[39mastype(dtype, copy\u001b[39m=\u001b[39mcopy)\n\u001b[0;32m   5907\u001b[0m         \u001b[39mfor\u001b[39;00m i \u001b[39min\u001b[39;00m \u001b[39mrange\u001b[39m(\u001b[39mlen\u001b[39m(\u001b[39mself\u001b[39m\u001b[39m.\u001b[39mcolumns))\n\u001b[0;32m   5908\u001b[0m     ]\n\u001b[0;32m   5910\u001b[0m \u001b[39melse\u001b[39;00m:\n\u001b[0;32m   5911\u001b[0m     \u001b[39m# else, only a single dtype is given\u001b[39;00m\n\u001b[1;32m-> 5912\u001b[0m     new_data \u001b[39m=\u001b[39m \u001b[39mself\u001b[39;49m\u001b[39m.\u001b[39;49m_mgr\u001b[39m.\u001b[39;49mastype(dtype\u001b[39m=\u001b[39;49mdtype, copy\u001b[39m=\u001b[39;49mcopy, errors\u001b[39m=\u001b[39;49merrors)\n\u001b[0;32m   5913\u001b[0m     \u001b[39mreturn\u001b[39;00m \u001b[39mself\u001b[39m\u001b[39m.\u001b[39m_constructor(new_data)\u001b[39m.\u001b[39m__finalize__(\u001b[39mself\u001b[39m, method\u001b[39m=\u001b[39m\u001b[39m\"\u001b[39m\u001b[39mastype\u001b[39m\u001b[39m\"\u001b[39m)\n\u001b[0;32m   5915\u001b[0m \u001b[39m# GH 33113: handle empty frame or series\u001b[39;00m\n",
      "File \u001b[1;32mc:\\Users\\91940\\anaconda3\\lib\\site-packages\\pandas\\core\\internals\\managers.py:419\u001b[0m, in \u001b[0;36mBaseBlockManager.astype\u001b[1;34m(self, dtype, copy, errors)\u001b[0m\n\u001b[0;32m    418\u001b[0m \u001b[39mdef\u001b[39;00m \u001b[39mastype\u001b[39m(\u001b[39mself\u001b[39m: T, dtype, copy: \u001b[39mbool\u001b[39m \u001b[39m=\u001b[39m \u001b[39mFalse\u001b[39;00m, errors: \u001b[39mstr\u001b[39m \u001b[39m=\u001b[39m \u001b[39m\"\u001b[39m\u001b[39mraise\u001b[39m\u001b[39m\"\u001b[39m) \u001b[39m-\u001b[39m\u001b[39m>\u001b[39m T:\n\u001b[1;32m--> 419\u001b[0m     \u001b[39mreturn\u001b[39;00m \u001b[39mself\u001b[39;49m\u001b[39m.\u001b[39;49mapply(\u001b[39m\"\u001b[39;49m\u001b[39mastype\u001b[39;49m\u001b[39m\"\u001b[39;49m, dtype\u001b[39m=\u001b[39;49mdtype, copy\u001b[39m=\u001b[39;49mcopy, errors\u001b[39m=\u001b[39;49merrors)\n",
      "File \u001b[1;32mc:\\Users\\91940\\anaconda3\\lib\\site-packages\\pandas\\core\\internals\\managers.py:304\u001b[0m, in \u001b[0;36mBaseBlockManager.apply\u001b[1;34m(self, f, align_keys, ignore_failures, **kwargs)\u001b[0m\n\u001b[0;32m    302\u001b[0m         applied \u001b[39m=\u001b[39m b\u001b[39m.\u001b[39mapply(f, \u001b[39m*\u001b[39m\u001b[39m*\u001b[39mkwargs)\n\u001b[0;32m    303\u001b[0m     \u001b[39melse\u001b[39;00m:\n\u001b[1;32m--> 304\u001b[0m         applied \u001b[39m=\u001b[39m \u001b[39mgetattr\u001b[39m(b, f)(\u001b[39m*\u001b[39m\u001b[39m*\u001b[39mkwargs)\n\u001b[0;32m    305\u001b[0m \u001b[39mexcept\u001b[39;00m (\u001b[39mTypeError\u001b[39;00m, \u001b[39mNotImplementedError\u001b[39;00m):\n\u001b[0;32m    306\u001b[0m     \u001b[39mif\u001b[39;00m \u001b[39mnot\u001b[39;00m ignore_failures:\n",
      "File \u001b[1;32mc:\\Users\\91940\\anaconda3\\lib\\site-packages\\pandas\\core\\internals\\blocks.py:580\u001b[0m, in \u001b[0;36mBlock.astype\u001b[1;34m(self, dtype, copy, errors)\u001b[0m\n\u001b[0;32m    562\u001b[0m \u001b[39m\"\"\"\u001b[39;00m\n\u001b[0;32m    563\u001b[0m \u001b[39mCoerce to the new dtype.\u001b[39;00m\n\u001b[0;32m    564\u001b[0m \n\u001b[1;32m   (...)\u001b[0m\n\u001b[0;32m    576\u001b[0m \u001b[39mBlock\u001b[39;00m\n\u001b[0;32m    577\u001b[0m \u001b[39m\"\"\"\u001b[39;00m\n\u001b[0;32m    578\u001b[0m values \u001b[39m=\u001b[39m \u001b[39mself\u001b[39m\u001b[39m.\u001b[39mvalues\n\u001b[1;32m--> 580\u001b[0m new_values \u001b[39m=\u001b[39m astype_array_safe(values, dtype, copy\u001b[39m=\u001b[39;49mcopy, errors\u001b[39m=\u001b[39;49merrors)\n\u001b[0;32m    582\u001b[0m new_values \u001b[39m=\u001b[39m maybe_coerce_values(new_values)\n\u001b[0;32m    583\u001b[0m newb \u001b[39m=\u001b[39m \u001b[39mself\u001b[39m\u001b[39m.\u001b[39mmake_block(new_values)\n",
      "File \u001b[1;32mc:\\Users\\91940\\anaconda3\\lib\\site-packages\\pandas\\core\\dtypes\\cast.py:1292\u001b[0m, in \u001b[0;36mastype_array_safe\u001b[1;34m(values, dtype, copy, errors)\u001b[0m\n\u001b[0;32m   1289\u001b[0m     dtype \u001b[39m=\u001b[39m dtype\u001b[39m.\u001b[39mnumpy_dtype\n\u001b[0;32m   1291\u001b[0m \u001b[39mtry\u001b[39;00m:\n\u001b[1;32m-> 1292\u001b[0m     new_values \u001b[39m=\u001b[39m astype_array(values, dtype, copy\u001b[39m=\u001b[39;49mcopy)\n\u001b[0;32m   1293\u001b[0m \u001b[39mexcept\u001b[39;00m (\u001b[39mValueError\u001b[39;00m, \u001b[39mTypeError\u001b[39;00m):\n\u001b[0;32m   1294\u001b[0m     \u001b[39m# e.g. astype_nansafe can fail on object-dtype of strings\u001b[39;00m\n\u001b[0;32m   1295\u001b[0m     \u001b[39m#  trying to convert to float\u001b[39;00m\n\u001b[0;32m   1296\u001b[0m     \u001b[39mif\u001b[39;00m errors \u001b[39m==\u001b[39m \u001b[39m\"\u001b[39m\u001b[39mignore\u001b[39m\u001b[39m\"\u001b[39m:\n",
      "File \u001b[1;32mc:\\Users\\91940\\anaconda3\\lib\\site-packages\\pandas\\core\\dtypes\\cast.py:1237\u001b[0m, in \u001b[0;36mastype_array\u001b[1;34m(values, dtype, copy)\u001b[0m\n\u001b[0;32m   1234\u001b[0m     values \u001b[39m=\u001b[39m values\u001b[39m.\u001b[39mastype(dtype, copy\u001b[39m=\u001b[39mcopy)\n\u001b[0;32m   1236\u001b[0m \u001b[39melse\u001b[39;00m:\n\u001b[1;32m-> 1237\u001b[0m     values \u001b[39m=\u001b[39m astype_nansafe(values, dtype, copy\u001b[39m=\u001b[39;49mcopy)\n\u001b[0;32m   1239\u001b[0m \u001b[39m# in pandas we don't store numpy str dtypes, so convert to object\u001b[39;00m\n\u001b[0;32m   1240\u001b[0m \u001b[39mif\u001b[39;00m \u001b[39misinstance\u001b[39m(dtype, np\u001b[39m.\u001b[39mdtype) \u001b[39mand\u001b[39;00m \u001b[39missubclass\u001b[39m(values\u001b[39m.\u001b[39mdtype\u001b[39m.\u001b[39mtype, \u001b[39mstr\u001b[39m):\n",
      "File \u001b[1;32mc:\\Users\\91940\\anaconda3\\lib\\site-packages\\pandas\\core\\dtypes\\cast.py:1181\u001b[0m, in \u001b[0;36mastype_nansafe\u001b[1;34m(arr, dtype, copy, skipna)\u001b[0m\n\u001b[0;32m   1177\u001b[0m     \u001b[39mraise\u001b[39;00m \u001b[39mValueError\u001b[39;00m(msg)\n\u001b[0;32m   1179\u001b[0m \u001b[39mif\u001b[39;00m copy \u001b[39mor\u001b[39;00m is_object_dtype(arr\u001b[39m.\u001b[39mdtype) \u001b[39mor\u001b[39;00m is_object_dtype(dtype):\n\u001b[0;32m   1180\u001b[0m     \u001b[39m# Explicit copy, or required since NumPy can't view from / to object.\u001b[39;00m\n\u001b[1;32m-> 1181\u001b[0m     \u001b[39mreturn\u001b[39;00m arr\u001b[39m.\u001b[39;49mastype(dtype, copy\u001b[39m=\u001b[39;49m\u001b[39mTrue\u001b[39;49;00m)\n\u001b[0;32m   1183\u001b[0m \u001b[39mreturn\u001b[39;00m arr\u001b[39m.\u001b[39mastype(dtype, copy\u001b[39m=\u001b[39mcopy)\n",
      "\u001b[1;31mValueError\u001b[0m: could not convert string to float: '12.8K'"
     ]
    }
   ],
   "source": [
    "tab[\"Dining_Review\"].astype(float)"
   ]
  },
  {
   "cell_type": "code",
   "execution_count": 79,
   "metadata": {},
   "outputs": [],
   "source": [
    "tab[\"Delivery_Reviews\"]=tab[\"Delivery_Reviews\"].astype(float)"
   ]
  },
  {
   "cell_type": "code",
   "execution_count": 80,
   "metadata": {},
   "outputs": [
    {
     "data": {
      "text/html": [
       "<div>\n",
       "<style scoped>\n",
       "    .dataframe tbody tr th:only-of-type {\n",
       "        vertical-align: middle;\n",
       "    }\n",
       "\n",
       "    .dataframe tbody tr th {\n",
       "        vertical-align: top;\n",
       "    }\n",
       "\n",
       "    .dataframe thead th {\n",
       "        text-align: right;\n",
       "    }\n",
       "</style>\n",
       "<table border=\"1\" class=\"dataframe\">\n",
       "  <thead>\n",
       "    <tr style=\"text-align: right;\">\n",
       "      <th></th>\n",
       "      <th>ID</th>\n",
       "      <th>Name</th>\n",
       "      <th>Location</th>\n",
       "      <th>Dining_Review</th>\n",
       "      <th>Delivery_Reviews</th>\n",
       "    </tr>\n",
       "  </thead>\n",
       "  <tbody>\n",
       "    <tr>\n",
       "      <th>0</th>\n",
       "      <td>0</td>\n",
       "      <td>Kannur Food Point</td>\n",
       "      <td>BTM</td>\n",
       "      <td>557</td>\n",
       "      <td>48300.0</td>\n",
       "    </tr>\n",
       "    <tr>\n",
       "      <th>1</th>\n",
       "      <td>1</td>\n",
       "      <td>Empire Restaurant</td>\n",
       "      <td>Church Street</td>\n",
       "      <td>4501</td>\n",
       "      <td>14300.0</td>\n",
       "    </tr>\n",
       "    <tr>\n",
       "      <th>2</th>\n",
       "      <td>2</td>\n",
       "      <td>Falahaar &amp; Kota Kachori</td>\n",
       "      <td>Koramangala 7th Block</td>\n",
       "      <td>3671</td>\n",
       "      <td>80000.0</td>\n",
       "    </tr>\n",
       "    <tr>\n",
       "      <th>3</th>\n",
       "      <td>3</td>\n",
       "      <td>Domino's Pizza</td>\n",
       "      <td>MG Road</td>\n",
       "      <td>83</td>\n",
       "      <td>1966.0</td>\n",
       "    </tr>\n",
       "    <tr>\n",
       "      <th>4</th>\n",
       "      <td>4</td>\n",
       "      <td>Sri Srinivas Pork Hotel</td>\n",
       "      <td>Ejipura</td>\n",
       "      <td>41</td>\n",
       "      <td>2384.0</td>\n",
       "    </tr>\n",
       "    <tr>\n",
       "      <th>...</th>\n",
       "      <td>...</td>\n",
       "      <td>...</td>\n",
       "      <td>...</td>\n",
       "      <td>...</td>\n",
       "      <td>...</td>\n",
       "    </tr>\n",
       "    <tr>\n",
       "      <th>643</th>\n",
       "      <td>643</td>\n",
       "      <td>Hotel New Prashanth Naati Shyli</td>\n",
       "      <td>Majestic</td>\n",
       "      <td>0</td>\n",
       "      <td>18.0</td>\n",
       "    </tr>\n",
       "    <tr>\n",
       "      <th>644</th>\n",
       "      <td>644</td>\n",
       "      <td>Samruddi Nonveg</td>\n",
       "      <td>City Market</td>\n",
       "      <td>0</td>\n",
       "      <td>2.0</td>\n",
       "    </tr>\n",
       "    <tr>\n",
       "      <th>645</th>\n",
       "      <td>645</td>\n",
       "      <td>Randhan - A - Bandhan</td>\n",
       "      <td>Wilson Garden</td>\n",
       "      <td>0</td>\n",
       "      <td>366.0</td>\n",
       "    </tr>\n",
       "    <tr>\n",
       "      <th>646</th>\n",
       "      <td>646</td>\n",
       "      <td>Amudham Biryani</td>\n",
       "      <td>Wilson Garden</td>\n",
       "      <td>0</td>\n",
       "      <td>0.0</td>\n",
       "    </tr>\n",
       "    <tr>\n",
       "      <th>647</th>\n",
       "      <td>647</td>\n",
       "      <td>Green Kitchen Palace</td>\n",
       "      <td>City Market</td>\n",
       "      <td>0</td>\n",
       "      <td>4.0</td>\n",
       "    </tr>\n",
       "  </tbody>\n",
       "</table>\n",
       "<p>648 rows × 5 columns</p>\n",
       "</div>"
      ],
      "text/plain": [
       "      ID                             Name               Location  \\\n",
       "0      0                Kannur Food Point                    BTM   \n",
       "1      1                Empire Restaurant          Church Street   \n",
       "2      2          Falahaar & Kota Kachori  Koramangala 7th Block   \n",
       "3      3                   Domino's Pizza                MG Road   \n",
       "4      4          Sri Srinivas Pork Hotel                Ejipura   \n",
       "..   ...                              ...                    ...   \n",
       "643  643  Hotel New Prashanth Naati Shyli               Majestic   \n",
       "644  644                  Samruddi Nonveg            City Market   \n",
       "645  645            Randhan - A - Bandhan          Wilson Garden   \n",
       "646  646                  Amudham Biryani          Wilson Garden   \n",
       "647  647             Green Kitchen Palace            City Market   \n",
       "\n",
       "    Dining_Review  Delivery_Reviews  \n",
       "0             557           48300.0  \n",
       "1            4501           14300.0  \n",
       "2            3671           80000.0  \n",
       "3              83            1966.0  \n",
       "4              41            2384.0  \n",
       "..            ...               ...  \n",
       "643             0              18.0  \n",
       "644             0               2.0  \n",
       "645             0             366.0  \n",
       "646             0               0.0  \n",
       "647             0               4.0  \n",
       "\n",
       "[648 rows x 5 columns]"
      ]
     },
     "execution_count": 80,
     "metadata": {},
     "output_type": "execute_result"
    }
   ],
   "source": [
    "tab"
   ]
  },
  {
   "cell_type": "code",
   "execution_count": 81,
   "metadata": {},
   "outputs": [],
   "source": [
    "tab.to_csv(r\"C:\\Users\\91940\\Downloads\\table1_cleandata1.csv\",index=False)"
   ]
  },
  {
   "cell_type": "code",
   "execution_count": null,
   "metadata": {},
   "outputs": [],
   "source": []
  },
  {
   "cell_type": "code",
   "execution_count": 78,
   "metadata": {},
   "outputs": [
    {
     "data": {
      "text/html": [
       "<div>\n",
       "<style scoped>\n",
       "    .dataframe tbody tr th:only-of-type {\n",
       "        vertical-align: middle;\n",
       "    }\n",
       "\n",
       "    .dataframe tbody tr th {\n",
       "        vertical-align: top;\n",
       "    }\n",
       "\n",
       "    .dataframe thead th {\n",
       "        text-align: right;\n",
       "    }\n",
       "</style>\n",
       "<table border=\"1\" class=\"dataframe\">\n",
       "  <thead>\n",
       "    <tr style=\"text-align: right;\">\n",
       "      <th></th>\n",
       "      <th>ID</th>\n",
       "      <th>Name</th>\n",
       "      <th>Cousin</th>\n",
       "      <th>Cost_for_one</th>\n",
       "      <th>Rating</th>\n",
       "      <th>Restro_links</th>\n",
       "      <th>Cousins</th>\n",
       "    </tr>\n",
       "  </thead>\n",
       "  <tbody>\n",
       "    <tr>\n",
       "      <th>0</th>\n",
       "      <td>0</td>\n",
       "      <td>Kannur Food Point</td>\n",
       "      <td>[Kerala,  Chinese,  South Indian,  Arabian,  J...</td>\n",
       "      <td>200</td>\n",
       "      <td>3.8</td>\n",
       "      <td>https://www.zomato.com/bangalore/kannur-food-p...</td>\n",
       "      <td>Kerala</td>\n",
       "    </tr>\n",
       "    <tr>\n",
       "      <th>1</th>\n",
       "      <td>0</td>\n",
       "      <td>Kannur Food Point</td>\n",
       "      <td>[Kerala,  Chinese,  South Indian,  Arabian,  J...</td>\n",
       "      <td>200</td>\n",
       "      <td>3.8</td>\n",
       "      <td>https://www.zomato.com/bangalore/kannur-food-p...</td>\n",
       "      <td>Chinese</td>\n",
       "    </tr>\n",
       "    <tr>\n",
       "      <th>2</th>\n",
       "      <td>0</td>\n",
       "      <td>Kannur Food Point</td>\n",
       "      <td>[Kerala,  Chinese,  South Indian,  Arabian,  J...</td>\n",
       "      <td>200</td>\n",
       "      <td>3.8</td>\n",
       "      <td>https://www.zomato.com/bangalore/kannur-food-p...</td>\n",
       "      <td>South Indian</td>\n",
       "    </tr>\n",
       "    <tr>\n",
       "      <th>3</th>\n",
       "      <td>0</td>\n",
       "      <td>Kannur Food Point</td>\n",
       "      <td>[Kerala,  Chinese,  South Indian,  Arabian,  J...</td>\n",
       "      <td>200</td>\n",
       "      <td>3.8</td>\n",
       "      <td>https://www.zomato.com/bangalore/kannur-food-p...</td>\n",
       "      <td>Arabian</td>\n",
       "    </tr>\n",
       "    <tr>\n",
       "      <th>4</th>\n",
       "      <td>0</td>\n",
       "      <td>Kannur Food Point</td>\n",
       "      <td>[Kerala,  Chinese,  South Indian,  Arabian,  J...</td>\n",
       "      <td>200</td>\n",
       "      <td>3.8</td>\n",
       "      <td>https://www.zomato.com/bangalore/kannur-food-p...</td>\n",
       "      <td>Juices</td>\n",
       "    </tr>\n",
       "  </tbody>\n",
       "</table>\n",
       "</div>"
      ],
      "text/plain": [
       "   ID               Name                                             Cousin  \\\n",
       "0   0  Kannur Food Point  [Kerala,  Chinese,  South Indian,  Arabian,  J...   \n",
       "1   0  Kannur Food Point  [Kerala,  Chinese,  South Indian,  Arabian,  J...   \n",
       "2   0  Kannur Food Point  [Kerala,  Chinese,  South Indian,  Arabian,  J...   \n",
       "3   0  Kannur Food Point  [Kerala,  Chinese,  South Indian,  Arabian,  J...   \n",
       "4   0  Kannur Food Point  [Kerala,  Chinese,  South Indian,  Arabian,  J...   \n",
       "\n",
       "   Cost_for_one Rating                                       Restro_links  \\\n",
       "0           200    3.8  https://www.zomato.com/bangalore/kannur-food-p...   \n",
       "1           200    3.8  https://www.zomato.com/bangalore/kannur-food-p...   \n",
       "2           200    3.8  https://www.zomato.com/bangalore/kannur-food-p...   \n",
       "3           200    3.8  https://www.zomato.com/bangalore/kannur-food-p...   \n",
       "4           200    3.8  https://www.zomato.com/bangalore/kannur-food-p...   \n",
       "\n",
       "         Cousins  \n",
       "0         Kerala  \n",
       "1        Chinese  \n",
       "2   South Indian  \n",
       "3        Arabian  \n",
       "4         Juices  "
      ]
     },
     "execution_count": 78,
     "metadata": {},
     "output_type": "execute_result"
    }
   ],
   "source": [
    "df3.head(5)"
   ]
  },
  {
   "cell_type": "code",
   "execution_count": 79,
   "metadata": {},
   "outputs": [
    {
     "data": {
      "text/html": [
       "<div>\n",
       "<style scoped>\n",
       "    .dataframe tbody tr th:only-of-type {\n",
       "        vertical-align: middle;\n",
       "    }\n",
       "\n",
       "    .dataframe tbody tr th {\n",
       "        vertical-align: top;\n",
       "    }\n",
       "\n",
       "    .dataframe thead th {\n",
       "        text-align: right;\n",
       "    }\n",
       "</style>\n",
       "<table border=\"1\" class=\"dataframe\">\n",
       "  <thead>\n",
       "    <tr style=\"text-align: right;\">\n",
       "      <th></th>\n",
       "      <th>ID</th>\n",
       "      <th>Name</th>\n",
       "      <th>Location</th>\n",
       "      <th>Dining_Review</th>\n",
       "      <th>Delivery_Reviews</th>\n",
       "    </tr>\n",
       "  </thead>\n",
       "  <tbody>\n",
       "    <tr>\n",
       "      <th>0</th>\n",
       "      <td>0</td>\n",
       "      <td>Kannur Food Point</td>\n",
       "      <td>BTM</td>\n",
       "      <td>557</td>\n",
       "      <td>48300</td>\n",
       "    </tr>\n",
       "    <tr>\n",
       "      <th>1</th>\n",
       "      <td>1</td>\n",
       "      <td>Empire Restaurant</td>\n",
       "      <td>Church Street</td>\n",
       "      <td>4,501</td>\n",
       "      <td>14300</td>\n",
       "    </tr>\n",
       "    <tr>\n",
       "      <th>2</th>\n",
       "      <td>2</td>\n",
       "      <td>Falahaar &amp; Kota Kachori</td>\n",
       "      <td>Koramangala 7th Block</td>\n",
       "      <td>3,671</td>\n",
       "      <td>80000</td>\n",
       "    </tr>\n",
       "    <tr>\n",
       "      <th>3</th>\n",
       "      <td>3</td>\n",
       "      <td>Domino's Pizza</td>\n",
       "      <td>MG Road</td>\n",
       "      <td>83</td>\n",
       "      <td>1966</td>\n",
       "    </tr>\n",
       "    <tr>\n",
       "      <th>4</th>\n",
       "      <td>4</td>\n",
       "      <td>Sri Srinivas Pork Hotel</td>\n",
       "      <td>Ejipura</td>\n",
       "      <td>41</td>\n",
       "      <td>2384</td>\n",
       "    </tr>\n",
       "  </tbody>\n",
       "</table>\n",
       "</div>"
      ],
      "text/plain": [
       "   ID                     Name               Location Dining_Review  \\\n",
       "0   0        Kannur Food Point                    BTM           557   \n",
       "1   1        Empire Restaurant          Church Street         4,501   \n",
       "2   2  Falahaar & Kota Kachori  Koramangala 7th Block         3,671   \n",
       "3   3           Domino's Pizza                MG Road            83   \n",
       "4   4  Sri Srinivas Pork Hotel                Ejipura            41   \n",
       "\n",
       "  Delivery_Reviews  \n",
       "0            48300  \n",
       "1            14300  \n",
       "2            80000  \n",
       "3             1966  \n",
       "4             2384  "
      ]
     },
     "execution_count": 79,
     "metadata": {},
     "output_type": "execute_result"
    }
   ],
   "source": [
    "tab.head(5)"
   ]
  },
  {
   "cell_type": "code",
   "execution_count": 81,
   "metadata": {},
   "outputs": [],
   "source": [
    "final=df3.merge(tab,how='inner',on=\"Name\")"
   ]
  },
  {
   "cell_type": "code",
   "execution_count": 83,
   "metadata": {},
   "outputs": [],
   "source": [
    "\n",
    "ll=[\"ID_y\",\"Cousin\",\"Restro_links\"]\n",
    "final.drop(ll,axis=1,inplace=True)"
   ]
  },
  {
   "cell_type": "code",
   "execution_count": 86,
   "metadata": {},
   "outputs": [],
   "source": [
    "final.columns=['ID_x', 'Name', 'Cost_for_one', 'Rating', 'Cuisine', 'Location',\n",
    "       'Dining_Review', 'Delivery_Reviews']"
   ]
  },
  {
   "cell_type": "code",
   "execution_count": 87,
   "metadata": {},
   "outputs": [
    {
     "data": {
      "text/html": [
       "<div>\n",
       "<style scoped>\n",
       "    .dataframe tbody tr th:only-of-type {\n",
       "        vertical-align: middle;\n",
       "    }\n",
       "\n",
       "    .dataframe tbody tr th {\n",
       "        vertical-align: top;\n",
       "    }\n",
       "\n",
       "    .dataframe thead th {\n",
       "        text-align: right;\n",
       "    }\n",
       "</style>\n",
       "<table border=\"1\" class=\"dataframe\">\n",
       "  <thead>\n",
       "    <tr style=\"text-align: right;\">\n",
       "      <th></th>\n",
       "      <th>ID_x</th>\n",
       "      <th>Name</th>\n",
       "      <th>Cost_for_one</th>\n",
       "      <th>Rating</th>\n",
       "      <th>Cuisine</th>\n",
       "      <th>Location</th>\n",
       "      <th>Dining_Review</th>\n",
       "      <th>Delivery_Reviews</th>\n",
       "    </tr>\n",
       "  </thead>\n",
       "  <tbody>\n",
       "    <tr>\n",
       "      <th>0</th>\n",
       "      <td>0</td>\n",
       "      <td>Kannur Food Point</td>\n",
       "      <td>200</td>\n",
       "      <td>3.8</td>\n",
       "      <td>Kerala</td>\n",
       "      <td>BTM</td>\n",
       "      <td>557</td>\n",
       "      <td>48300</td>\n",
       "    </tr>\n",
       "    <tr>\n",
       "      <th>1</th>\n",
       "      <td>0</td>\n",
       "      <td>Kannur Food Point</td>\n",
       "      <td>200</td>\n",
       "      <td>3.8</td>\n",
       "      <td>Chinese</td>\n",
       "      <td>BTM</td>\n",
       "      <td>557</td>\n",
       "      <td>48300</td>\n",
       "    </tr>\n",
       "    <tr>\n",
       "      <th>2</th>\n",
       "      <td>0</td>\n",
       "      <td>Kannur Food Point</td>\n",
       "      <td>200</td>\n",
       "      <td>3.8</td>\n",
       "      <td>South Indian</td>\n",
       "      <td>BTM</td>\n",
       "      <td>557</td>\n",
       "      <td>48300</td>\n",
       "    </tr>\n",
       "    <tr>\n",
       "      <th>3</th>\n",
       "      <td>0</td>\n",
       "      <td>Kannur Food Point</td>\n",
       "      <td>200</td>\n",
       "      <td>3.8</td>\n",
       "      <td>Arabian</td>\n",
       "      <td>BTM</td>\n",
       "      <td>557</td>\n",
       "      <td>48300</td>\n",
       "    </tr>\n",
       "    <tr>\n",
       "      <th>4</th>\n",
       "      <td>0</td>\n",
       "      <td>Kannur Food Point</td>\n",
       "      <td>200</td>\n",
       "      <td>3.8</td>\n",
       "      <td>Juices</td>\n",
       "      <td>BTM</td>\n",
       "      <td>557</td>\n",
       "      <td>48300</td>\n",
       "    </tr>\n",
       "    <tr>\n",
       "      <th>...</th>\n",
       "      <td>...</td>\n",
       "      <td>...</td>\n",
       "      <td>...</td>\n",
       "      <td>...</td>\n",
       "      <td>...</td>\n",
       "      <td>...</td>\n",
       "      <td>...</td>\n",
       "      <td>...</td>\n",
       "    </tr>\n",
       "    <tr>\n",
       "      <th>2873</th>\n",
       "      <td>645</td>\n",
       "      <td>Randhan - A - Bandhan</td>\n",
       "      <td>200</td>\n",
       "      <td>3.3</td>\n",
       "      <td>Desserts</td>\n",
       "      <td>Wilson Garden</td>\n",
       "      <td>0</td>\n",
       "      <td>366</td>\n",
       "    </tr>\n",
       "    <tr>\n",
       "      <th>2874</th>\n",
       "      <td>646</td>\n",
       "      <td>Amudham Biryani</td>\n",
       "      <td>200</td>\n",
       "      <td>-</td>\n",
       "      <td>Biryani</td>\n",
       "      <td>Wilson Garden</td>\n",
       "      <td>0</td>\n",
       "      <td>0</td>\n",
       "    </tr>\n",
       "    <tr>\n",
       "      <th>2875</th>\n",
       "      <td>646</td>\n",
       "      <td>Amudham Biryani</td>\n",
       "      <td>200</td>\n",
       "      <td>-</td>\n",
       "      <td>South Indian</td>\n",
       "      <td>Wilson Garden</td>\n",
       "      <td>0</td>\n",
       "      <td>0</td>\n",
       "    </tr>\n",
       "    <tr>\n",
       "      <th>2876</th>\n",
       "      <td>647</td>\n",
       "      <td>Green Kitchen Palace</td>\n",
       "      <td>200</td>\n",
       "      <td>-</td>\n",
       "      <td>Biryani</td>\n",
       "      <td>City Market</td>\n",
       "      <td>0</td>\n",
       "      <td>4</td>\n",
       "    </tr>\n",
       "    <tr>\n",
       "      <th>2877</th>\n",
       "      <td>647</td>\n",
       "      <td>Green Kitchen Palace</td>\n",
       "      <td>200</td>\n",
       "      <td>-</td>\n",
       "      <td>Street Food</td>\n",
       "      <td>City Market</td>\n",
       "      <td>0</td>\n",
       "      <td>4</td>\n",
       "    </tr>\n",
       "  </tbody>\n",
       "</table>\n",
       "<p>2878 rows × 8 columns</p>\n",
       "</div>"
      ],
      "text/plain": [
       "      ID_x                   Name  Cost_for_one Rating        Cuisine  \\\n",
       "0        0      Kannur Food Point           200    3.8         Kerala   \n",
       "1        0      Kannur Food Point           200    3.8        Chinese   \n",
       "2        0      Kannur Food Point           200    3.8   South Indian   \n",
       "3        0      Kannur Food Point           200    3.8        Arabian   \n",
       "4        0      Kannur Food Point           200    3.8         Juices   \n",
       "...    ...                    ...           ...    ...            ...   \n",
       "2873   645  Randhan - A - Bandhan           200    3.3       Desserts   \n",
       "2874   646        Amudham Biryani           200      -        Biryani   \n",
       "2875   646        Amudham Biryani           200      -   South Indian   \n",
       "2876   647   Green Kitchen Palace           200      -        Biryani   \n",
       "2877   647   Green Kitchen Palace           200      -    Street Food   \n",
       "\n",
       "           Location Dining_Review Delivery_Reviews  \n",
       "0               BTM           557            48300  \n",
       "1               BTM           557            48300  \n",
       "2               BTM           557            48300  \n",
       "3               BTM           557            48300  \n",
       "4               BTM           557            48300  \n",
       "...             ...           ...              ...  \n",
       "2873  Wilson Garden             0              366  \n",
       "2874  Wilson Garden             0                0  \n",
       "2875  Wilson Garden             0                0  \n",
       "2876    City Market             0                4  \n",
       "2877    City Market             0                4  \n",
       "\n",
       "[2878 rows x 8 columns]"
      ]
     },
     "execution_count": 87,
     "metadata": {},
     "output_type": "execute_result"
    }
   ],
   "source": [
    "final"
   ]
  },
  {
   "cell_type": "code",
   "execution_count": 89,
   "metadata": {},
   "outputs": [],
   "source": [
    "final.to_csv(r\"C:\\Users\\91940\\Downloads\\final_table.csv\",index=False)"
   ]
  },
  {
   "cell_type": "code",
   "execution_count": 91,
   "metadata": {},
   "outputs": [
    {
     "data": {
      "text/plain": [
       "ID_x                 int64\n",
       "Name                object\n",
       "Cost_for_one         int64\n",
       "Rating              object\n",
       "Cuisine             object\n",
       "Location            object\n",
       "Dining_Review       object\n",
       "Delivery_Reviews    object\n",
       "dtype: object"
      ]
     },
     "execution_count": 91,
     "metadata": {},
     "output_type": "execute_result"
    }
   ],
   "source": [
    "final.dtypes"
   ]
  },
  {
   "cell_type": "code",
   "execution_count": 98,
   "metadata": {},
   "outputs": [
    {
     "data": {
      "text/html": [
       "<div>\n",
       "<style scoped>\n",
       "    .dataframe tbody tr th:only-of-type {\n",
       "        vertical-align: middle;\n",
       "    }\n",
       "\n",
       "    .dataframe tbody tr th {\n",
       "        vertical-align: top;\n",
       "    }\n",
       "\n",
       "    .dataframe thead th {\n",
       "        text-align: right;\n",
       "    }\n",
       "</style>\n",
       "<table border=\"1\" class=\"dataframe\">\n",
       "  <thead>\n",
       "    <tr style=\"text-align: right;\">\n",
       "      <th></th>\n",
       "      <th>ID_x</th>\n",
       "      <th>Name</th>\n",
       "      <th>Cost_for_one</th>\n",
       "      <th>Rating</th>\n",
       "      <th>Cuisine</th>\n",
       "      <th>Location</th>\n",
       "      <th>Dining_Review</th>\n",
       "      <th>Delivery_Reviews</th>\n",
       "    </tr>\n",
       "  </thead>\n",
       "  <tbody>\n",
       "    <tr>\n",
       "      <th>0</th>\n",
       "      <td>0</td>\n",
       "      <td>Kannur Food Point</td>\n",
       "      <td>200</td>\n",
       "      <td>3.8</td>\n",
       "      <td>Kerala</td>\n",
       "      <td>BTM</td>\n",
       "      <td>557</td>\n",
       "      <td>48300</td>\n",
       "    </tr>\n",
       "    <tr>\n",
       "      <th>1</th>\n",
       "      <td>0</td>\n",
       "      <td>Kannur Food Point</td>\n",
       "      <td>200</td>\n",
       "      <td>3.8</td>\n",
       "      <td>Chinese</td>\n",
       "      <td>BTM</td>\n",
       "      <td>557</td>\n",
       "      <td>48300</td>\n",
       "    </tr>\n",
       "    <tr>\n",
       "      <th>2</th>\n",
       "      <td>0</td>\n",
       "      <td>Kannur Food Point</td>\n",
       "      <td>200</td>\n",
       "      <td>3.8</td>\n",
       "      <td>South Indian</td>\n",
       "      <td>BTM</td>\n",
       "      <td>557</td>\n",
       "      <td>48300</td>\n",
       "    </tr>\n",
       "    <tr>\n",
       "      <th>3</th>\n",
       "      <td>0</td>\n",
       "      <td>Kannur Food Point</td>\n",
       "      <td>200</td>\n",
       "      <td>3.8</td>\n",
       "      <td>Arabian</td>\n",
       "      <td>BTM</td>\n",
       "      <td>557</td>\n",
       "      <td>48300</td>\n",
       "    </tr>\n",
       "    <tr>\n",
       "      <th>4</th>\n",
       "      <td>0</td>\n",
       "      <td>Kannur Food Point</td>\n",
       "      <td>200</td>\n",
       "      <td>3.8</td>\n",
       "      <td>Juices</td>\n",
       "      <td>BTM</td>\n",
       "      <td>557</td>\n",
       "      <td>48300</td>\n",
       "    </tr>\n",
       "    <tr>\n",
       "      <th>...</th>\n",
       "      <td>...</td>\n",
       "      <td>...</td>\n",
       "      <td>...</td>\n",
       "      <td>...</td>\n",
       "      <td>...</td>\n",
       "      <td>...</td>\n",
       "      <td>...</td>\n",
       "      <td>...</td>\n",
       "    </tr>\n",
       "    <tr>\n",
       "      <th>2873</th>\n",
       "      <td>645</td>\n",
       "      <td>Randhan - A - Bandhan</td>\n",
       "      <td>200</td>\n",
       "      <td>3.3</td>\n",
       "      <td>Desserts</td>\n",
       "      <td>Wilson Garden</td>\n",
       "      <td>0</td>\n",
       "      <td>366</td>\n",
       "    </tr>\n",
       "    <tr>\n",
       "      <th>2874</th>\n",
       "      <td>646</td>\n",
       "      <td>Amudham Biryani</td>\n",
       "      <td>200</td>\n",
       "      <td>-</td>\n",
       "      <td>Biryani</td>\n",
       "      <td>Wilson Garden</td>\n",
       "      <td>0</td>\n",
       "      <td>0</td>\n",
       "    </tr>\n",
       "    <tr>\n",
       "      <th>2875</th>\n",
       "      <td>646</td>\n",
       "      <td>Amudham Biryani</td>\n",
       "      <td>200</td>\n",
       "      <td>-</td>\n",
       "      <td>South Indian</td>\n",
       "      <td>Wilson Garden</td>\n",
       "      <td>0</td>\n",
       "      <td>0</td>\n",
       "    </tr>\n",
       "    <tr>\n",
       "      <th>2876</th>\n",
       "      <td>647</td>\n",
       "      <td>Green Kitchen Palace</td>\n",
       "      <td>200</td>\n",
       "      <td>-</td>\n",
       "      <td>Biryani</td>\n",
       "      <td>City Market</td>\n",
       "      <td>0</td>\n",
       "      <td>4</td>\n",
       "    </tr>\n",
       "    <tr>\n",
       "      <th>2877</th>\n",
       "      <td>647</td>\n",
       "      <td>Green Kitchen Palace</td>\n",
       "      <td>200</td>\n",
       "      <td>-</td>\n",
       "      <td>Street Food</td>\n",
       "      <td>City Market</td>\n",
       "      <td>0</td>\n",
       "      <td>4</td>\n",
       "    </tr>\n",
       "  </tbody>\n",
       "</table>\n",
       "<p>2878 rows × 8 columns</p>\n",
       "</div>"
      ],
      "text/plain": [
       "      ID_x                   Name  Cost_for_one Rating        Cuisine  \\\n",
       "0        0      Kannur Food Point           200    3.8         Kerala   \n",
       "1        0      Kannur Food Point           200    3.8        Chinese   \n",
       "2        0      Kannur Food Point           200    3.8   South Indian   \n",
       "3        0      Kannur Food Point           200    3.8        Arabian   \n",
       "4        0      Kannur Food Point           200    3.8         Juices   \n",
       "...    ...                    ...           ...    ...            ...   \n",
       "2873   645  Randhan - A - Bandhan           200    3.3       Desserts   \n",
       "2874   646        Amudham Biryani           200      -        Biryani   \n",
       "2875   646        Amudham Biryani           200      -   South Indian   \n",
       "2876   647   Green Kitchen Palace           200      -        Biryani   \n",
       "2877   647   Green Kitchen Palace           200      -    Street Food   \n",
       "\n",
       "           Location Dining_Review Delivery_Reviews  \n",
       "0               BTM           557            48300  \n",
       "1               BTM           557            48300  \n",
       "2               BTM           557            48300  \n",
       "3               BTM           557            48300  \n",
       "4               BTM           557            48300  \n",
       "...             ...           ...              ...  \n",
       "2873  Wilson Garden             0              366  \n",
       "2874  Wilson Garden             0                0  \n",
       "2875  Wilson Garden             0                0  \n",
       "2876    City Market             0                4  \n",
       "2877    City Market             0                4  \n",
       "\n",
       "[2878 rows x 8 columns]"
      ]
     },
     "execution_count": 98,
     "metadata": {},
     "output_type": "execute_result"
    }
   ],
   "source": [
    "final"
   ]
  },
  {
   "cell_type": "code",
   "execution_count": 99,
   "metadata": {},
   "outputs": [],
   "source": [
    "final=final[final[\"Rating\"]!=\"New\"]"
   ]
  },
  {
   "cell_type": "code",
   "execution_count": 103,
   "metadata": {},
   "outputs": [],
   "source": [
    "fff=final[final[\"Rating\"]!=\"-\"]"
   ]
  },
  {
   "cell_type": "code",
   "execution_count": 110,
   "metadata": {},
   "outputs": [
    {
     "data": {
      "text/plain": [
       "625"
      ]
     },
     "execution_count": 110,
     "metadata": {},
     "output_type": "execute_result"
    }
   ],
   "source": [
    "final[\"Name\"].nunique()"
   ]
  },
  {
   "cell_type": "code",
   "execution_count": 112,
   "metadata": {},
   "outputs": [
    {
     "data": {
      "text/plain": [
       "594"
      ]
     },
     "execution_count": 112,
     "metadata": {},
     "output_type": "execute_result"
    }
   ],
   "source": [
    "fff[\"Name\"].nunique()"
   ]
  },
  {
   "cell_type": "code",
   "execution_count": 111,
   "metadata": {},
   "outputs": [
    {
     "data": {
      "text/plain": [
       "625"
      ]
     },
     "execution_count": 111,
     "metadata": {},
     "output_type": "execute_result"
    }
   ],
   "source": [
    "final[\"Name\"].nunique()"
   ]
  },
  {
   "cell_type": "code",
   "execution_count": 113,
   "metadata": {},
   "outputs": [
    {
     "name": "stderr",
     "output_type": "stream",
     "text": [
      "C:\\Users\\91940\\AppData\\Local\\Temp\\ipykernel_3640\\2960388250.py:1: DeprecationWarning: `np.float` is a deprecated alias for the builtin `float`. To silence this warning, use `float` by itself. Doing this will not modify any behavior and is safe. If you specifically wanted the numpy scalar type, use `np.float64` here.\n",
      "Deprecated in NumPy 1.20; for more details and guidance: https://numpy.org/devdocs/release/1.20.0-notes.html#deprecations\n",
      "  fff[\"Rating\"]=fff[\"Rating\"].astype(np.float)\n",
      "C:\\Users\\91940\\AppData\\Local\\Temp\\ipykernel_3640\\2960388250.py:1: SettingWithCopyWarning: \n",
      "A value is trying to be set on a copy of a slice from a DataFrame.\n",
      "Try using .loc[row_indexer,col_indexer] = value instead\n",
      "\n",
      "See the caveats in the documentation: https://pandas.pydata.org/pandas-docs/stable/user_guide/indexing.html#returning-a-view-versus-a-copy\n",
      "  fff[\"Rating\"]=fff[\"Rating\"].astype(np.float)\n"
     ]
    }
   ],
   "source": [
    "fff[\"Rating\"]=fff[\"Rating\"].astype(np.float)"
   ]
  },
  {
   "cell_type": "code",
   "execution_count": 114,
   "metadata": {},
   "outputs": [
    {
     "name": "stdout",
     "output_type": "stream",
     "text": [
      "<class 'pandas.core.frame.DataFrame'>\n",
      "Int64Index: 2772 entries, 0 to 2873\n",
      "Data columns (total 8 columns):\n",
      " #   Column            Non-Null Count  Dtype  \n",
      "---  ------            --------------  -----  \n",
      " 0   ID_x              2772 non-null   int64  \n",
      " 1   Name              2772 non-null   object \n",
      " 2   Cost_for_one      2772 non-null   int64  \n",
      " 3   Rating            2772 non-null   float64\n",
      " 4   Cuisine           2772 non-null   object \n",
      " 5   Location          2772 non-null   object \n",
      " 6   Dining_Review     2772 non-null   object \n",
      " 7   Delivery_Reviews  2772 non-null   object \n",
      "dtypes: float64(1), int64(2), object(5)\n",
      "memory usage: 194.9+ KB\n"
     ]
    }
   ],
   "source": [
    "fff.info()"
   ]
  },
  {
   "cell_type": "code",
   "execution_count": 118,
   "metadata": {},
   "outputs": [
    {
     "name": "stderr",
     "output_type": "stream",
     "text": [
      "C:\\Users\\91940\\AppData\\Local\\Temp\\ipykernel_3640\\3357572466.py:1: SettingWithCopyWarning: \n",
      "A value is trying to be set on a copy of a slice from a DataFrame.\n",
      "Try using .loc[row_indexer,col_indexer] = value instead\n",
      "\n",
      "See the caveats in the documentation: https://pandas.pydata.org/pandas-docs/stable/user_guide/indexing.html#returning-a-view-versus-a-copy\n",
      "  fff[\"Dining_Review\"]=fff[\"Dining_Review\"].str.replace(\",\",\"\")\n"
     ]
    }
   ],
   "source": [
    "fff[\"Dining_Review\"]=fff[\"Dining_Review\"].str.replace(\",\",\"\")"
   ]
  },
  {
   "cell_type": "code",
   "execution_count": 122,
   "metadata": {},
   "outputs": [],
   "source": [
    "dd=[]\n",
    "for i in fff[\"Dining_Review\"]:\n",
    "    if \"K\" in i:\n",
    "        if \".\" in i:\n",
    "            dd.append(i.replace(\"K\",\"00\")) \n",
    "        else:\n",
    "            dd.append(i.replace(\"K\",\"000\"))\n",
    "    else:\n",
    "        dd.append(i) "
   ]
  },
  {
   "cell_type": "code",
   "execution_count": 123,
   "metadata": {},
   "outputs": [
    {
     "data": {
      "text/plain": [
       "2772"
      ]
     },
     "execution_count": 123,
     "metadata": {},
     "output_type": "execute_result"
    }
   ],
   "source": [
    "len(dd)"
   ]
  },
  {
   "cell_type": "code",
   "execution_count": 126,
   "metadata": {},
   "outputs": [],
   "source": [
    "fff.insert(8,\"Dinings_Review\",dd)"
   ]
  },
  {
   "cell_type": "code",
   "execution_count": 128,
   "metadata": {},
   "outputs": [
    {
     "name": "stderr",
     "output_type": "stream",
     "text": [
      "C:\\Users\\91940\\AppData\\Local\\Temp\\ipykernel_3640\\1774454963.py:1: SettingWithCopyWarning: \n",
      "A value is trying to be set on a copy of a slice from a DataFrame\n",
      "\n",
      "See the caveats in the documentation: https://pandas.pydata.org/pandas-docs/stable/user_guide/indexing.html#returning-a-view-versus-a-copy\n",
      "  fff.drop(\"Dining_Review\",axis=1,inplace=True)\n"
     ]
    }
   ],
   "source": [
    "fff.drop(\"Dining_Review\",axis=1,inplace=True)"
   ]
  },
  {
   "cell_type": "code",
   "execution_count": 132,
   "metadata": {},
   "outputs": [
    {
     "name": "stderr",
     "output_type": "stream",
     "text": [
      "C:\\Users\\91940\\AppData\\Local\\Temp\\ipykernel_3640\\1568646909.py:1: SettingWithCopyWarning: \n",
      "A value is trying to be set on a copy of a slice from a DataFrame.\n",
      "Try using .loc[row_indexer,col_indexer] = value instead\n",
      "\n",
      "See the caveats in the documentation: https://pandas.pydata.org/pandas-docs/stable/user_guide/indexing.html#returning-a-view-versus-a-copy\n",
      "  fff[\"Dinings_Review\"]=fff[\"Dinings_Review\"].str.replace(\",\",\"\")\n"
     ]
    }
   ],
   "source": [
    "fff[\"Dinings_Review\"]=fff[\"Dinings_Review\"].str.replace(\",\",\"\")"
   ]
  },
  {
   "cell_type": "code",
   "execution_count": 134,
   "metadata": {},
   "outputs": [
    {
     "name": "stderr",
     "output_type": "stream",
     "text": [
      "C:\\Users\\91940\\AppData\\Local\\Temp\\ipykernel_3640\\831320360.py:1: FutureWarning: The default value of regex will change from True to False in a future version. In addition, single character regular expressions will *not* be treated as literal strings when regex=True.\n",
      "  fff[\"Dinings_Review\"]=fff[\"Dinings_Review\"].str.replace(\".\",\"\")\n",
      "C:\\Users\\91940\\AppData\\Local\\Temp\\ipykernel_3640\\831320360.py:1: SettingWithCopyWarning: \n",
      "A value is trying to be set on a copy of a slice from a DataFrame.\n",
      "Try using .loc[row_indexer,col_indexer] = value instead\n",
      "\n",
      "See the caveats in the documentation: https://pandas.pydata.org/pandas-docs/stable/user_guide/indexing.html#returning-a-view-versus-a-copy\n",
      "  fff[\"Dinings_Review\"]=fff[\"Dinings_Review\"].str.replace(\".\",\"\")\n"
     ]
    }
   ],
   "source": [
    "fff[\"Dinings_Review\"]=fff[\"Dinings_Review\"].str.replace(\".\",\"\")"
   ]
  },
  {
   "cell_type": "code",
   "execution_count": 136,
   "metadata": {},
   "outputs": [
    {
     "name": "stderr",
     "output_type": "stream",
     "text": [
      "C:\\Users\\91940\\AppData\\Local\\Temp\\ipykernel_3640\\1477870893.py:1: DeprecationWarning: `np.int` is a deprecated alias for the builtin `int`. To silence this warning, use `int` by itself. Doing this will not modify any behavior and is safe. When replacing `np.int`, you may wish to use e.g. `np.int64` or `np.int32` to specify the precision. If you wish to review your current use, check the release note link for additional information.\n",
      "Deprecated in NumPy 1.20; for more details and guidance: https://numpy.org/devdocs/release/1.20.0-notes.html#deprecations\n",
      "  fff[\"Dinings_Review\"]=fff[\"Dinings_Review\"].astype(np.int)\n",
      "C:\\Users\\91940\\AppData\\Local\\Temp\\ipykernel_3640\\1477870893.py:1: SettingWithCopyWarning: \n",
      "A value is trying to be set on a copy of a slice from a DataFrame.\n",
      "Try using .loc[row_indexer,col_indexer] = value instead\n",
      "\n",
      "See the caveats in the documentation: https://pandas.pydata.org/pandas-docs/stable/user_guide/indexing.html#returning-a-view-versus-a-copy\n",
      "  fff[\"Dinings_Review\"]=fff[\"Dinings_Review\"].astype(np.int)\n"
     ]
    }
   ],
   "source": [
    "fff[\"Dinings_Review\"]=fff[\"Dinings_Review\"].astype(np.int)"
   ]
  },
  {
   "cell_type": "code",
   "execution_count": 140,
   "metadata": {},
   "outputs": [
    {
     "name": "stdout",
     "output_type": "stream",
     "text": [
      "<class 'pandas.core.frame.DataFrame'>\n",
      "Int64Index: 2772 entries, 0 to 2873\n",
      "Data columns (total 8 columns):\n",
      " #   Column            Non-Null Count  Dtype  \n",
      "---  ------            --------------  -----  \n",
      " 0   ID_x              2772 non-null   int64  \n",
      " 1   Name              2772 non-null   object \n",
      " 2   Cost_for_one      2772 non-null   int64  \n",
      " 3   Rating            2772 non-null   float64\n",
      " 4   Cuisine           2772 non-null   object \n",
      " 5   Location          2772 non-null   object \n",
      " 6   Delivery_Reviews  2772 non-null   int32  \n",
      " 7   Dinings_Review    2772 non-null   int32  \n",
      "dtypes: float64(1), int32(2), int64(2), object(3)\n",
      "memory usage: 173.2+ KB\n"
     ]
    }
   ],
   "source": [
    "fff.info()"
   ]
  },
  {
   "cell_type": "code",
   "execution_count": 139,
   "metadata": {},
   "outputs": [
    {
     "name": "stderr",
     "output_type": "stream",
     "text": [
      "C:\\Users\\91940\\AppData\\Local\\Temp\\ipykernel_3640\\4038902787.py:1: DeprecationWarning: `np.int` is a deprecated alias for the builtin `int`. To silence this warning, use `int` by itself. Doing this will not modify any behavior and is safe. When replacing `np.int`, you may wish to use e.g. `np.int64` or `np.int32` to specify the precision. If you wish to review your current use, check the release note link for additional information.\n",
      "Deprecated in NumPy 1.20; for more details and guidance: https://numpy.org/devdocs/release/1.20.0-notes.html#deprecations\n",
      "  fff[\"Delivery_Reviews\"]=fff[\"Delivery_Reviews\"].astype(np.int)\n",
      "C:\\Users\\91940\\AppData\\Local\\Temp\\ipykernel_3640\\4038902787.py:1: SettingWithCopyWarning: \n",
      "A value is trying to be set on a copy of a slice from a DataFrame.\n",
      "Try using .loc[row_indexer,col_indexer] = value instead\n",
      "\n",
      "See the caveats in the documentation: https://pandas.pydata.org/pandas-docs/stable/user_guide/indexing.html#returning-a-view-versus-a-copy\n",
      "  fff[\"Delivery_Reviews\"]=fff[\"Delivery_Reviews\"].astype(np.int)\n"
     ]
    }
   ],
   "source": [
    "fff[\"Delivery_Reviews\"]=fff[\"Delivery_Reviews\"].astype(np.int)"
   ]
  },
  {
   "cell_type": "code",
   "execution_count": 141,
   "metadata": {},
   "outputs": [],
   "source": [
    "fff.to_csv(r\"C:\\Users\\91940\\Downloads\\final_table1.csv\",index=False)"
   ]
  },
  {
   "cell_type": "code",
   "execution_count": null,
   "metadata": {},
   "outputs": [],
   "source": [
    "def avg_price(a):\n",
    "    x=df[\"cost_for_one\"][df[\"location\"]==a].mean()"
   ]
  }
 ],
 "metadata": {
  "kernelspec": {
   "display_name": "Python 3.9.12 ('base')",
   "language": "python",
   "name": "python3"
  },
  "language_info": {
   "codemirror_mode": {
    "name": "ipython",
    "version": 3
   },
   "file_extension": ".py",
   "mimetype": "text/x-python",
   "name": "python",
   "nbconvert_exporter": "python",
   "pygments_lexer": "ipython3",
   "version": "3.9.12"
  },
  "orig_nbformat": 4,
  "vscode": {
   "interpreter": {
    "hash": "a81f9c8e4d77b662dc413a93f7c2826c99d2f1c3f5bd35735156a034d97bd3d1"
   }
  }
 },
 "nbformat": 4,
 "nbformat_minor": 2
}
